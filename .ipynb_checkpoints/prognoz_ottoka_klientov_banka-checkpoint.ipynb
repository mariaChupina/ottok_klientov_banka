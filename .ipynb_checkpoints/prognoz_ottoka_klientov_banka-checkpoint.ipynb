{
 "cells": [
  {
   "cell_type": "markdown",
   "metadata": {
    "toc": true
   },
   "source": [
    "<h1>Содержание<span class=\"tocSkip\"></span></h1>\n",
    "<div class=\"toc\"><ul class=\"toc-item\"><li><span><a href=\"#Подготовка-данных\" data-toc-modified-id=\"Подготовка-данных-1\"><span class=\"toc-item-num\">1&nbsp;&nbsp;</span>Подготовка данных</a></span><ul class=\"toc-item\"><li><span><a href=\"#Просмотр-данных\" data-toc-modified-id=\"Просмотр-данных-1.1\"><span class=\"toc-item-num\">1.1&nbsp;&nbsp;</span>Просмотр данных</a></span></li><li><span><a href=\"#Предобработка-данных\" data-toc-modified-id=\"Предобработка-данных-1.2\"><span class=\"toc-item-num\">1.2&nbsp;&nbsp;</span>Предобработка данных</a></span></li></ul></li><li><span><a href=\"#Исследование-задачи\" data-toc-modified-id=\"Исследование-задачи-2\"><span class=\"toc-item-num\">2&nbsp;&nbsp;</span>Исследование задачи</a></span><ul class=\"toc-item\"><li><span><a href=\"#Подготовка-выборок\" data-toc-modified-id=\"Подготовка-выборок-2.1\"><span class=\"toc-item-num\">2.1&nbsp;&nbsp;</span>Подготовка выборок</a></span></li><li><span><a href=\"#Обучение-на-несбалансированных-данных\" data-toc-modified-id=\"Обучение-на-несбалансированных-данных-2.2\"><span class=\"toc-item-num\">2.2&nbsp;&nbsp;</span>Обучение на несбалансированных данных</a></span></li></ul></li><li><span><a href=\"#Борьба-с-дисбалансом\" data-toc-modified-id=\"Борьба-с-дисбалансом-3\"><span class=\"toc-item-num\">3&nbsp;&nbsp;</span>Борьба с дисбалансом</a></span></li><li><span><a href=\"#Тестирование-модели\" data-toc-modified-id=\"Тестирование-модели-4\"><span class=\"toc-item-num\">4&nbsp;&nbsp;</span>Тестирование модели</a></span></li><li><span><a href=\"#Вывод\" data-toc-modified-id=\"Вывод-5\"><span class=\"toc-item-num\">5&nbsp;&nbsp;</span>Вывод</a></span></li><li><span><a href=\"#Чек-лист-готовности-проекта\" data-toc-modified-id=\"Чек-лист-готовности-проекта-6\"><span class=\"toc-item-num\">6&nbsp;&nbsp;</span>Чек-лист готовности проекта</a></span></li></ul></div>"
   ]
  },
  {
   "cell_type": "markdown",
   "metadata": {},
   "source": [
    "# Отток клиентов"
   ]
  },
  {
   "cell_type": "code",
   "execution_count": 1,
   "metadata": {},
   "outputs": [],
   "source": [
    "# импорт библиотек \n",
    "import pandas as pd\n",
    "\n",
    "from sklearn.preprocessing import StandardScaler\n",
    "from sklearn.model_selection import train_test_split\n",
    "from sklearn.utils import shuffle\n",
    "from sklearn.model_selection import GridSearchCV\n",
    "from sklearn.tree import DecisionTreeClassifier\n",
    "from sklearn.ensemble import RandomForestClassifier\n",
    "from sklearn.linear_model import LogisticRegression\n",
    "from sklearn.metrics import f1_score\n",
    "from sklearn.metrics import roc_curve\n",
    "from sklearn.metrics import roc_auc_score\n",
    "from sklearn.metrics import accuracy_score\n",
    "from sklearn.dummy import DummyClassifier\n",
    "from matplotlib import pyplot as plt "
   ]
  },
  {
   "cell_type": "markdown",
   "metadata": {},
   "source": [
    "## Подготовка данных"
   ]
  },
  {
   "cell_type": "markdown",
   "metadata": {},
   "source": [
    "### Просмотр данных"
   ]
  },
  {
   "cell_type": "code",
   "execution_count": 35,
   "metadata": {
    "scrolled": true
   },
   "outputs": [
    {
     "name": "stdout",
     "output_type": "stream",
     "text": [
      "<class 'pandas.core.frame.DataFrame'>\n",
      "RangeIndex: 10000 entries, 0 to 9999\n",
      "Data columns (total 14 columns):\n",
      " #   Column           Non-Null Count  Dtype  \n",
      "---  ------           --------------  -----  \n",
      " 0   RowNumber        10000 non-null  int64  \n",
      " 1   CustomerId       10000 non-null  int64  \n",
      " 2   Surname          10000 non-null  object \n",
      " 3   CreditScore      10000 non-null  int64  \n",
      " 4   Geography        10000 non-null  object \n",
      " 5   Gender           10000 non-null  object \n",
      " 6   Age              10000 non-null  int64  \n",
      " 7   Tenure           9091 non-null   float64\n",
      " 8   Balance          10000 non-null  float64\n",
      " 9   NumOfProducts    10000 non-null  int64  \n",
      " 10  HasCrCard        10000 non-null  int64  \n",
      " 11  IsActiveMember   10000 non-null  int64  \n",
      " 12  EstimatedSalary  10000 non-null  float64\n",
      " 13  Exited           10000 non-null  int64  \n",
      "dtypes: float64(3), int64(8), object(3)\n",
      "memory usage: 1.1+ MB\n",
      "\n",
      "Дубликатов в таблице 0 \n",
      "\n"
     ]
    },
    {
     "data": {
      "text/html": [
       "<div>\n",
       "<style scoped>\n",
       "    .dataframe tbody tr th:only-of-type {\n",
       "        vertical-align: middle;\n",
       "    }\n",
       "\n",
       "    .dataframe tbody tr th {\n",
       "        vertical-align: top;\n",
       "    }\n",
       "\n",
       "    .dataframe thead th {\n",
       "        text-align: right;\n",
       "    }\n",
       "</style>\n",
       "<table border=\"1\" class=\"dataframe\">\n",
       "  <thead>\n",
       "    <tr style=\"text-align: right;\">\n",
       "      <th></th>\n",
       "      <th>RowNumber</th>\n",
       "      <th>CustomerId</th>\n",
       "      <th>CreditScore</th>\n",
       "      <th>Age</th>\n",
       "      <th>Tenure</th>\n",
       "      <th>Balance</th>\n",
       "      <th>NumOfProducts</th>\n",
       "      <th>HasCrCard</th>\n",
       "      <th>IsActiveMember</th>\n",
       "      <th>EstimatedSalary</th>\n",
       "      <th>Exited</th>\n",
       "    </tr>\n",
       "  </thead>\n",
       "  <tbody>\n",
       "    <tr>\n",
       "      <th>count</th>\n",
       "      <td>10000.00000</td>\n",
       "      <td>1.000000e+04</td>\n",
       "      <td>10000.000000</td>\n",
       "      <td>10000.000000</td>\n",
       "      <td>9091.000000</td>\n",
       "      <td>10000.000000</td>\n",
       "      <td>10000.000000</td>\n",
       "      <td>10000.00000</td>\n",
       "      <td>10000.000000</td>\n",
       "      <td>10000.000000</td>\n",
       "      <td>10000.000000</td>\n",
       "    </tr>\n",
       "    <tr>\n",
       "      <th>mean</th>\n",
       "      <td>5000.50000</td>\n",
       "      <td>1.569094e+07</td>\n",
       "      <td>650.528800</td>\n",
       "      <td>38.921800</td>\n",
       "      <td>4.997690</td>\n",
       "      <td>76485.889288</td>\n",
       "      <td>1.530200</td>\n",
       "      <td>0.70550</td>\n",
       "      <td>0.515100</td>\n",
       "      <td>100090.239881</td>\n",
       "      <td>0.203700</td>\n",
       "    </tr>\n",
       "    <tr>\n",
       "      <th>std</th>\n",
       "      <td>2886.89568</td>\n",
       "      <td>7.193619e+04</td>\n",
       "      <td>96.653299</td>\n",
       "      <td>10.487806</td>\n",
       "      <td>2.894723</td>\n",
       "      <td>62397.405202</td>\n",
       "      <td>0.581654</td>\n",
       "      <td>0.45584</td>\n",
       "      <td>0.499797</td>\n",
       "      <td>57510.492818</td>\n",
       "      <td>0.402769</td>\n",
       "    </tr>\n",
       "    <tr>\n",
       "      <th>min</th>\n",
       "      <td>1.00000</td>\n",
       "      <td>1.556570e+07</td>\n",
       "      <td>350.000000</td>\n",
       "      <td>18.000000</td>\n",
       "      <td>0.000000</td>\n",
       "      <td>0.000000</td>\n",
       "      <td>1.000000</td>\n",
       "      <td>0.00000</td>\n",
       "      <td>0.000000</td>\n",
       "      <td>11.580000</td>\n",
       "      <td>0.000000</td>\n",
       "    </tr>\n",
       "    <tr>\n",
       "      <th>25%</th>\n",
       "      <td>2500.75000</td>\n",
       "      <td>1.562853e+07</td>\n",
       "      <td>584.000000</td>\n",
       "      <td>32.000000</td>\n",
       "      <td>2.000000</td>\n",
       "      <td>0.000000</td>\n",
       "      <td>1.000000</td>\n",
       "      <td>0.00000</td>\n",
       "      <td>0.000000</td>\n",
       "      <td>51002.110000</td>\n",
       "      <td>0.000000</td>\n",
       "    </tr>\n",
       "    <tr>\n",
       "      <th>50%</th>\n",
       "      <td>5000.50000</td>\n",
       "      <td>1.569074e+07</td>\n",
       "      <td>652.000000</td>\n",
       "      <td>37.000000</td>\n",
       "      <td>5.000000</td>\n",
       "      <td>97198.540000</td>\n",
       "      <td>1.000000</td>\n",
       "      <td>1.00000</td>\n",
       "      <td>1.000000</td>\n",
       "      <td>100193.915000</td>\n",
       "      <td>0.000000</td>\n",
       "    </tr>\n",
       "    <tr>\n",
       "      <th>75%</th>\n",
       "      <td>7500.25000</td>\n",
       "      <td>1.575323e+07</td>\n",
       "      <td>718.000000</td>\n",
       "      <td>44.000000</td>\n",
       "      <td>7.000000</td>\n",
       "      <td>127644.240000</td>\n",
       "      <td>2.000000</td>\n",
       "      <td>1.00000</td>\n",
       "      <td>1.000000</td>\n",
       "      <td>149388.247500</td>\n",
       "      <td>0.000000</td>\n",
       "    </tr>\n",
       "    <tr>\n",
       "      <th>max</th>\n",
       "      <td>10000.00000</td>\n",
       "      <td>1.581569e+07</td>\n",
       "      <td>850.000000</td>\n",
       "      <td>92.000000</td>\n",
       "      <td>10.000000</td>\n",
       "      <td>250898.090000</td>\n",
       "      <td>4.000000</td>\n",
       "      <td>1.00000</td>\n",
       "      <td>1.000000</td>\n",
       "      <td>199992.480000</td>\n",
       "      <td>1.000000</td>\n",
       "    </tr>\n",
       "  </tbody>\n",
       "</table>\n",
       "</div>"
      ],
      "text/plain": [
       "         RowNumber    CustomerId   CreditScore           Age       Tenure  \\\n",
       "count  10000.00000  1.000000e+04  10000.000000  10000.000000  9091.000000   \n",
       "mean    5000.50000  1.569094e+07    650.528800     38.921800     4.997690   \n",
       "std     2886.89568  7.193619e+04     96.653299     10.487806     2.894723   \n",
       "min        1.00000  1.556570e+07    350.000000     18.000000     0.000000   \n",
       "25%     2500.75000  1.562853e+07    584.000000     32.000000     2.000000   \n",
       "50%     5000.50000  1.569074e+07    652.000000     37.000000     5.000000   \n",
       "75%     7500.25000  1.575323e+07    718.000000     44.000000     7.000000   \n",
       "max    10000.00000  1.581569e+07    850.000000     92.000000    10.000000   \n",
       "\n",
       "             Balance  NumOfProducts    HasCrCard  IsActiveMember  \\\n",
       "count   10000.000000   10000.000000  10000.00000    10000.000000   \n",
       "mean    76485.889288       1.530200      0.70550        0.515100   \n",
       "std     62397.405202       0.581654      0.45584        0.499797   \n",
       "min         0.000000       1.000000      0.00000        0.000000   \n",
       "25%         0.000000       1.000000      0.00000        0.000000   \n",
       "50%     97198.540000       1.000000      1.00000        1.000000   \n",
       "75%    127644.240000       2.000000      1.00000        1.000000   \n",
       "max    250898.090000       4.000000      1.00000        1.000000   \n",
       "\n",
       "       EstimatedSalary        Exited  \n",
       "count     10000.000000  10000.000000  \n",
       "mean     100090.239881      0.203700  \n",
       "std       57510.492818      0.402769  \n",
       "min          11.580000      0.000000  \n",
       "25%       51002.110000      0.000000  \n",
       "50%      100193.915000      0.000000  \n",
       "75%      149388.247500      0.000000  \n",
       "max      199992.480000      1.000000  "
      ]
     },
     "metadata": {},
     "output_type": "display_data"
    },
    {
     "data": {
      "text/html": [
       "<div>\n",
       "<style scoped>\n",
       "    .dataframe tbody tr th:only-of-type {\n",
       "        vertical-align: middle;\n",
       "    }\n",
       "\n",
       "    .dataframe tbody tr th {\n",
       "        vertical-align: top;\n",
       "    }\n",
       "\n",
       "    .dataframe thead th {\n",
       "        text-align: right;\n",
       "    }\n",
       "</style>\n",
       "<table border=\"1\" class=\"dataframe\">\n",
       "  <thead>\n",
       "    <tr style=\"text-align: right;\">\n",
       "      <th></th>\n",
       "      <th>RowNumber</th>\n",
       "      <th>CustomerId</th>\n",
       "      <th>Surname</th>\n",
       "      <th>CreditScore</th>\n",
       "      <th>Geography</th>\n",
       "      <th>Gender</th>\n",
       "      <th>Age</th>\n",
       "      <th>Tenure</th>\n",
       "      <th>Balance</th>\n",
       "      <th>NumOfProducts</th>\n",
       "      <th>HasCrCard</th>\n",
       "      <th>IsActiveMember</th>\n",
       "      <th>EstimatedSalary</th>\n",
       "      <th>Exited</th>\n",
       "    </tr>\n",
       "  </thead>\n",
       "  <tbody>\n",
       "    <tr>\n",
       "      <th>0</th>\n",
       "      <td>1</td>\n",
       "      <td>15634602</td>\n",
       "      <td>Hargrave</td>\n",
       "      <td>619</td>\n",
       "      <td>France</td>\n",
       "      <td>Female</td>\n",
       "      <td>42</td>\n",
       "      <td>2.0</td>\n",
       "      <td>0.00</td>\n",
       "      <td>1</td>\n",
       "      <td>1</td>\n",
       "      <td>1</td>\n",
       "      <td>101348.88</td>\n",
       "      <td>1</td>\n",
       "    </tr>\n",
       "    <tr>\n",
       "      <th>1</th>\n",
       "      <td>2</td>\n",
       "      <td>15647311</td>\n",
       "      <td>Hill</td>\n",
       "      <td>608</td>\n",
       "      <td>Spain</td>\n",
       "      <td>Female</td>\n",
       "      <td>41</td>\n",
       "      <td>1.0</td>\n",
       "      <td>83807.86</td>\n",
       "      <td>1</td>\n",
       "      <td>0</td>\n",
       "      <td>1</td>\n",
       "      <td>112542.58</td>\n",
       "      <td>0</td>\n",
       "    </tr>\n",
       "    <tr>\n",
       "      <th>2</th>\n",
       "      <td>3</td>\n",
       "      <td>15619304</td>\n",
       "      <td>Onio</td>\n",
       "      <td>502</td>\n",
       "      <td>France</td>\n",
       "      <td>Female</td>\n",
       "      <td>42</td>\n",
       "      <td>8.0</td>\n",
       "      <td>159660.80</td>\n",
       "      <td>3</td>\n",
       "      <td>1</td>\n",
       "      <td>0</td>\n",
       "      <td>113931.57</td>\n",
       "      <td>1</td>\n",
       "    </tr>\n",
       "  </tbody>\n",
       "</table>\n",
       "</div>"
      ],
      "text/plain": [
       "   RowNumber  CustomerId   Surname  CreditScore Geography  Gender  Age  \\\n",
       "0          1    15634602  Hargrave          619    France  Female   42   \n",
       "1          2    15647311      Hill          608     Spain  Female   41   \n",
       "2          3    15619304      Onio          502    France  Female   42   \n",
       "\n",
       "   Tenure    Balance  NumOfProducts  HasCrCard  IsActiveMember  \\\n",
       "0     2.0       0.00              1          1               1   \n",
       "1     1.0   83807.86              1          0               1   \n",
       "2     8.0  159660.80              3          1               0   \n",
       "\n",
       "   EstimatedSalary  Exited  \n",
       "0        101348.88       1  \n",
       "1        112542.58       0  \n",
       "2        113931.57       1  "
      ]
     },
     "metadata": {},
     "output_type": "display_data"
    }
   ],
   "source": [
    "data = pd.read_csv('/datasets/Churn.csv')\n",
    "\n",
    "data.info()\n",
    "print('\\nДубликатов в таблице', data.duplicated().sum(), '\\n')\n",
    "display(data.describe())\n",
    "display(data.head(3))"
   ]
  },
  {
   "cell_type": "markdown",
   "metadata": {},
   "source": [
    "### Предобработка данных"
   ]
  },
  {
   "cell_type": "markdown",
   "metadata": {},
   "source": [
    "Просмотрим пропуски в столбце `Tenure`. "
   ]
  },
  {
   "cell_type": "code",
   "execution_count": 36,
   "metadata": {
    "scrolled": true
   },
   "outputs": [
    {
     "name": "stdout",
     "output_type": "stream",
     "text": [
      "1.0     952\n",
      "2.0     950\n",
      "8.0     933\n",
      "3.0     928\n",
      "5.0     927\n",
      "7.0     925\n",
      "4.0     885\n",
      "9.0     882\n",
      "6.0     881\n",
      "10.0    446\n",
      "0.0     382\n",
      "Name: Tenure, dtype: int64\n"
     ]
    },
    {
     "data": {
      "text/html": [
       "<div>\n",
       "<style scoped>\n",
       "    .dataframe tbody tr th:only-of-type {\n",
       "        vertical-align: middle;\n",
       "    }\n",
       "\n",
       "    .dataframe tbody tr th {\n",
       "        vertical-align: top;\n",
       "    }\n",
       "\n",
       "    .dataframe thead th {\n",
       "        text-align: right;\n",
       "    }\n",
       "</style>\n",
       "<table border=\"1\" class=\"dataframe\">\n",
       "  <thead>\n",
       "    <tr style=\"text-align: right;\">\n",
       "      <th></th>\n",
       "      <th>RowNumber</th>\n",
       "      <th>CustomerId</th>\n",
       "      <th>Surname</th>\n",
       "      <th>CreditScore</th>\n",
       "      <th>Geography</th>\n",
       "      <th>Gender</th>\n",
       "      <th>Age</th>\n",
       "      <th>Tenure</th>\n",
       "      <th>Balance</th>\n",
       "      <th>NumOfProducts</th>\n",
       "      <th>HasCrCard</th>\n",
       "      <th>IsActiveMember</th>\n",
       "      <th>EstimatedSalary</th>\n",
       "      <th>Exited</th>\n",
       "    </tr>\n",
       "  </thead>\n",
       "  <tbody>\n",
       "    <tr>\n",
       "      <th>30</th>\n",
       "      <td>31</td>\n",
       "      <td>15589475</td>\n",
       "      <td>Azikiwe</td>\n",
       "      <td>591</td>\n",
       "      <td>Spain</td>\n",
       "      <td>Female</td>\n",
       "      <td>39</td>\n",
       "      <td>NaN</td>\n",
       "      <td>0.00</td>\n",
       "      <td>3</td>\n",
       "      <td>1</td>\n",
       "      <td>0</td>\n",
       "      <td>140469.38</td>\n",
       "      <td>1</td>\n",
       "    </tr>\n",
       "    <tr>\n",
       "      <th>48</th>\n",
       "      <td>49</td>\n",
       "      <td>15766205</td>\n",
       "      <td>Yin</td>\n",
       "      <td>550</td>\n",
       "      <td>Germany</td>\n",
       "      <td>Male</td>\n",
       "      <td>38</td>\n",
       "      <td>NaN</td>\n",
       "      <td>103391.38</td>\n",
       "      <td>1</td>\n",
       "      <td>0</td>\n",
       "      <td>1</td>\n",
       "      <td>90878.13</td>\n",
       "      <td>0</td>\n",
       "    </tr>\n",
       "    <tr>\n",
       "      <th>51</th>\n",
       "      <td>52</td>\n",
       "      <td>15768193</td>\n",
       "      <td>Trevisani</td>\n",
       "      <td>585</td>\n",
       "      <td>Germany</td>\n",
       "      <td>Male</td>\n",
       "      <td>36</td>\n",
       "      <td>NaN</td>\n",
       "      <td>146050.97</td>\n",
       "      <td>2</td>\n",
       "      <td>0</td>\n",
       "      <td>0</td>\n",
       "      <td>86424.57</td>\n",
       "      <td>0</td>\n",
       "    </tr>\n",
       "    <tr>\n",
       "      <th>53</th>\n",
       "      <td>54</td>\n",
       "      <td>15702298</td>\n",
       "      <td>Parkhill</td>\n",
       "      <td>655</td>\n",
       "      <td>Germany</td>\n",
       "      <td>Male</td>\n",
       "      <td>41</td>\n",
       "      <td>NaN</td>\n",
       "      <td>125561.97</td>\n",
       "      <td>1</td>\n",
       "      <td>0</td>\n",
       "      <td>0</td>\n",
       "      <td>164040.94</td>\n",
       "      <td>1</td>\n",
       "    </tr>\n",
       "    <tr>\n",
       "      <th>60</th>\n",
       "      <td>61</td>\n",
       "      <td>15651280</td>\n",
       "      <td>Hunter</td>\n",
       "      <td>742</td>\n",
       "      <td>Germany</td>\n",
       "      <td>Male</td>\n",
       "      <td>35</td>\n",
       "      <td>NaN</td>\n",
       "      <td>136857.00</td>\n",
       "      <td>1</td>\n",
       "      <td>0</td>\n",
       "      <td>0</td>\n",
       "      <td>84509.57</td>\n",
       "      <td>0</td>\n",
       "    </tr>\n",
       "    <tr>\n",
       "      <th>82</th>\n",
       "      <td>83</td>\n",
       "      <td>15641732</td>\n",
       "      <td>Mills</td>\n",
       "      <td>543</td>\n",
       "      <td>France</td>\n",
       "      <td>Female</td>\n",
       "      <td>36</td>\n",
       "      <td>NaN</td>\n",
       "      <td>0.00</td>\n",
       "      <td>2</td>\n",
       "      <td>0</td>\n",
       "      <td>0</td>\n",
       "      <td>26019.59</td>\n",
       "      <td>0</td>\n",
       "    </tr>\n",
       "    <tr>\n",
       "      <th>85</th>\n",
       "      <td>86</td>\n",
       "      <td>15805254</td>\n",
       "      <td>Ndukaku</td>\n",
       "      <td>652</td>\n",
       "      <td>Spain</td>\n",
       "      <td>Female</td>\n",
       "      <td>75</td>\n",
       "      <td>NaN</td>\n",
       "      <td>0.00</td>\n",
       "      <td>2</td>\n",
       "      <td>1</td>\n",
       "      <td>1</td>\n",
       "      <td>114675.75</td>\n",
       "      <td>0</td>\n",
       "    </tr>\n",
       "    <tr>\n",
       "      <th>94</th>\n",
       "      <td>95</td>\n",
       "      <td>15676966</td>\n",
       "      <td>Capon</td>\n",
       "      <td>730</td>\n",
       "      <td>Spain</td>\n",
       "      <td>Male</td>\n",
       "      <td>42</td>\n",
       "      <td>NaN</td>\n",
       "      <td>0.00</td>\n",
       "      <td>2</td>\n",
       "      <td>0</td>\n",
       "      <td>1</td>\n",
       "      <td>85982.47</td>\n",
       "      <td>0</td>\n",
       "    </tr>\n",
       "    <tr>\n",
       "      <th>99</th>\n",
       "      <td>100</td>\n",
       "      <td>15633059</td>\n",
       "      <td>Fanucci</td>\n",
       "      <td>413</td>\n",
       "      <td>France</td>\n",
       "      <td>Male</td>\n",
       "      <td>34</td>\n",
       "      <td>NaN</td>\n",
       "      <td>0.00</td>\n",
       "      <td>2</td>\n",
       "      <td>0</td>\n",
       "      <td>0</td>\n",
       "      <td>6534.18</td>\n",
       "      <td>0</td>\n",
       "    </tr>\n",
       "    <tr>\n",
       "      <th>111</th>\n",
       "      <td>112</td>\n",
       "      <td>15665790</td>\n",
       "      <td>Rowntree</td>\n",
       "      <td>538</td>\n",
       "      <td>Germany</td>\n",
       "      <td>Male</td>\n",
       "      <td>39</td>\n",
       "      <td>NaN</td>\n",
       "      <td>108055.10</td>\n",
       "      <td>2</td>\n",
       "      <td>1</td>\n",
       "      <td>0</td>\n",
       "      <td>27231.26</td>\n",
       "      <td>0</td>\n",
       "    </tr>\n",
       "    <tr>\n",
       "      <th>123</th>\n",
       "      <td>124</td>\n",
       "      <td>15760085</td>\n",
       "      <td>Calabresi</td>\n",
       "      <td>684</td>\n",
       "      <td>Germany</td>\n",
       "      <td>Female</td>\n",
       "      <td>48</td>\n",
       "      <td>NaN</td>\n",
       "      <td>126384.42</td>\n",
       "      <td>1</td>\n",
       "      <td>1</td>\n",
       "      <td>1</td>\n",
       "      <td>198129.36</td>\n",
       "      <td>0</td>\n",
       "    </tr>\n",
       "    <tr>\n",
       "      <th>125</th>\n",
       "      <td>126</td>\n",
       "      <td>15627360</td>\n",
       "      <td>Fuller</td>\n",
       "      <td>432</td>\n",
       "      <td>France</td>\n",
       "      <td>Male</td>\n",
       "      <td>42</td>\n",
       "      <td>NaN</td>\n",
       "      <td>152603.45</td>\n",
       "      <td>1</td>\n",
       "      <td>1</td>\n",
       "      <td>0</td>\n",
       "      <td>110265.24</td>\n",
       "      <td>1</td>\n",
       "    </tr>\n",
       "    <tr>\n",
       "      <th>146</th>\n",
       "      <td>147</td>\n",
       "      <td>15705707</td>\n",
       "      <td>Bennelong</td>\n",
       "      <td>635</td>\n",
       "      <td>Spain</td>\n",
       "      <td>Female</td>\n",
       "      <td>29</td>\n",
       "      <td>NaN</td>\n",
       "      <td>138296.94</td>\n",
       "      <td>2</td>\n",
       "      <td>1</td>\n",
       "      <td>0</td>\n",
       "      <td>141075.51</td>\n",
       "      <td>0</td>\n",
       "    </tr>\n",
       "    <tr>\n",
       "      <th>162</th>\n",
       "      <td>163</td>\n",
       "      <td>15630910</td>\n",
       "      <td>Treacy</td>\n",
       "      <td>800</td>\n",
       "      <td>France</td>\n",
       "      <td>Female</td>\n",
       "      <td>49</td>\n",
       "      <td>NaN</td>\n",
       "      <td>108007.36</td>\n",
       "      <td>1</td>\n",
       "      <td>0</td>\n",
       "      <td>0</td>\n",
       "      <td>47125.11</td>\n",
       "      <td>0</td>\n",
       "    </tr>\n",
       "    <tr>\n",
       "      <th>173</th>\n",
       "      <td>174</td>\n",
       "      <td>15586310</td>\n",
       "      <td>Ting</td>\n",
       "      <td>578</td>\n",
       "      <td>France</td>\n",
       "      <td>Male</td>\n",
       "      <td>30</td>\n",
       "      <td>NaN</td>\n",
       "      <td>169462.09</td>\n",
       "      <td>1</td>\n",
       "      <td>1</td>\n",
       "      <td>0</td>\n",
       "      <td>112187.11</td>\n",
       "      <td>0</td>\n",
       "    </tr>\n",
       "    <tr>\n",
       "      <th>180</th>\n",
       "      <td>181</td>\n",
       "      <td>15716334</td>\n",
       "      <td>Rozier</td>\n",
       "      <td>850</td>\n",
       "      <td>Spain</td>\n",
       "      <td>Female</td>\n",
       "      <td>45</td>\n",
       "      <td>NaN</td>\n",
       "      <td>122311.21</td>\n",
       "      <td>1</td>\n",
       "      <td>1</td>\n",
       "      <td>1</td>\n",
       "      <td>19482.50</td>\n",
       "      <td>0</td>\n",
       "    </tr>\n",
       "    <tr>\n",
       "      <th>217</th>\n",
       "      <td>218</td>\n",
       "      <td>15786308</td>\n",
       "      <td>Millar</td>\n",
       "      <td>730</td>\n",
       "      <td>Spain</td>\n",
       "      <td>Female</td>\n",
       "      <td>33</td>\n",
       "      <td>NaN</td>\n",
       "      <td>0.00</td>\n",
       "      <td>2</td>\n",
       "      <td>0</td>\n",
       "      <td>0</td>\n",
       "      <td>176576.62</td>\n",
       "      <td>0</td>\n",
       "    </tr>\n",
       "    <tr>\n",
       "      <th>222</th>\n",
       "      <td>223</td>\n",
       "      <td>15727829</td>\n",
       "      <td>McIntyre</td>\n",
       "      <td>567</td>\n",
       "      <td>France</td>\n",
       "      <td>Male</td>\n",
       "      <td>42</td>\n",
       "      <td>NaN</td>\n",
       "      <td>0.00</td>\n",
       "      <td>2</td>\n",
       "      <td>1</td>\n",
       "      <td>1</td>\n",
       "      <td>167984.61</td>\n",
       "      <td>0</td>\n",
       "    </tr>\n",
       "    <tr>\n",
       "      <th>225</th>\n",
       "      <td>226</td>\n",
       "      <td>15699029</td>\n",
       "      <td>Bagley</td>\n",
       "      <td>670</td>\n",
       "      <td>France</td>\n",
       "      <td>Male</td>\n",
       "      <td>37</td>\n",
       "      <td>NaN</td>\n",
       "      <td>170557.91</td>\n",
       "      <td>2</td>\n",
       "      <td>1</td>\n",
       "      <td>0</td>\n",
       "      <td>198252.88</td>\n",
       "      <td>0</td>\n",
       "    </tr>\n",
       "    <tr>\n",
       "      <th>237</th>\n",
       "      <td>238</td>\n",
       "      <td>15764866</td>\n",
       "      <td>Synnot</td>\n",
       "      <td>539</td>\n",
       "      <td>Germany</td>\n",
       "      <td>Female</td>\n",
       "      <td>43</td>\n",
       "      <td>NaN</td>\n",
       "      <td>116220.50</td>\n",
       "      <td>3</td>\n",
       "      <td>1</td>\n",
       "      <td>0</td>\n",
       "      <td>55803.96</td>\n",
       "      <td>1</td>\n",
       "    </tr>\n",
       "  </tbody>\n",
       "</table>\n",
       "</div>"
      ],
      "text/plain": [
       "     RowNumber  CustomerId    Surname  CreditScore Geography  Gender  Age  \\\n",
       "30          31    15589475    Azikiwe          591     Spain  Female   39   \n",
       "48          49    15766205        Yin          550   Germany    Male   38   \n",
       "51          52    15768193  Trevisani          585   Germany    Male   36   \n",
       "53          54    15702298   Parkhill          655   Germany    Male   41   \n",
       "60          61    15651280     Hunter          742   Germany    Male   35   \n",
       "82          83    15641732      Mills          543    France  Female   36   \n",
       "85          86    15805254    Ndukaku          652     Spain  Female   75   \n",
       "94          95    15676966      Capon          730     Spain    Male   42   \n",
       "99         100    15633059    Fanucci          413    France    Male   34   \n",
       "111        112    15665790   Rowntree          538   Germany    Male   39   \n",
       "123        124    15760085  Calabresi          684   Germany  Female   48   \n",
       "125        126    15627360     Fuller          432    France    Male   42   \n",
       "146        147    15705707  Bennelong          635     Spain  Female   29   \n",
       "162        163    15630910     Treacy          800    France  Female   49   \n",
       "173        174    15586310       Ting          578    France    Male   30   \n",
       "180        181    15716334     Rozier          850     Spain  Female   45   \n",
       "217        218    15786308     Millar          730     Spain  Female   33   \n",
       "222        223    15727829   McIntyre          567    France    Male   42   \n",
       "225        226    15699029     Bagley          670    France    Male   37   \n",
       "237        238    15764866     Synnot          539   Germany  Female   43   \n",
       "\n",
       "     Tenure    Balance  NumOfProducts  HasCrCard  IsActiveMember  \\\n",
       "30      NaN       0.00              3          1               0   \n",
       "48      NaN  103391.38              1          0               1   \n",
       "51      NaN  146050.97              2          0               0   \n",
       "53      NaN  125561.97              1          0               0   \n",
       "60      NaN  136857.00              1          0               0   \n",
       "82      NaN       0.00              2          0               0   \n",
       "85      NaN       0.00              2          1               1   \n",
       "94      NaN       0.00              2          0               1   \n",
       "99      NaN       0.00              2          0               0   \n",
       "111     NaN  108055.10              2          1               0   \n",
       "123     NaN  126384.42              1          1               1   \n",
       "125     NaN  152603.45              1          1               0   \n",
       "146     NaN  138296.94              2          1               0   \n",
       "162     NaN  108007.36              1          0               0   \n",
       "173     NaN  169462.09              1          1               0   \n",
       "180     NaN  122311.21              1          1               1   \n",
       "217     NaN       0.00              2          0               0   \n",
       "222     NaN       0.00              2          1               1   \n",
       "225     NaN  170557.91              2          1               0   \n",
       "237     NaN  116220.50              3          1               0   \n",
       "\n",
       "     EstimatedSalary  Exited  \n",
       "30         140469.38       1  \n",
       "48          90878.13       0  \n",
       "51          86424.57       0  \n",
       "53         164040.94       1  \n",
       "60          84509.57       0  \n",
       "82          26019.59       0  \n",
       "85         114675.75       0  \n",
       "94          85982.47       0  \n",
       "99           6534.18       0  \n",
       "111         27231.26       0  \n",
       "123        198129.36       0  \n",
       "125        110265.24       1  \n",
       "146        141075.51       0  \n",
       "162         47125.11       0  \n",
       "173        112187.11       0  \n",
       "180         19482.50       0  \n",
       "217        176576.62       0  \n",
       "222        167984.61       0  \n",
       "225        198252.88       0  \n",
       "237         55803.96       1  "
      ]
     },
     "metadata": {},
     "output_type": "display_data"
    }
   ],
   "source": [
    "print(data['Tenure'].value_counts())\n",
    "display(data[data['Tenure'].isna()].head(20))"
   ]
  },
  {
   "cell_type": "markdown",
   "metadata": {},
   "source": [
    "Никакой связи между строками со значением `Tenure = NaN` нет. \n",
    "\n",
    "Данные клиентов в столбце `Tenure` распределены равномерно по годам в промежутке от 1 до 9. Исключение составляют \"новые\" и \"очень старые\" клиенты. И если небольшое количество \"старых\" клиентов можно объяснить первым годом работы компании, то небольшое количество \"новых\" клиентов можно объяснить разными причинами (ошибка в выгрузке данных, снижение рекламных расходов, деструкция имиджа компании и др.). Предположу, что пропуски в столбце возникли из-за ошибки в выгрузке и относятся к значению `Tenure = 0`"
   ]
  },
  {
   "cell_type": "code",
   "execution_count": 37,
   "metadata": {},
   "outputs": [
    {
     "data": {
      "text/plain": [
       "0.0     1291\n",
       "1.0      952\n",
       "2.0      950\n",
       "8.0      933\n",
       "3.0      928\n",
       "5.0      927\n",
       "7.0      925\n",
       "4.0      885\n",
       "9.0      882\n",
       "6.0      881\n",
       "10.0     446\n",
       "Name: Tenure, dtype: int64"
      ]
     },
     "execution_count": 37,
     "metadata": {},
     "output_type": "execute_result"
    }
   ],
   "source": [
    "data['Tenure'].fillna(0, inplace=True)\n",
    "data['Tenure'].value_counts()"
   ]
  },
  {
   "cell_type": "markdown",
   "metadata": {},
   "source": [
    "## Исследование задачи"
   ]
  },
  {
   "cell_type": "markdown",
   "metadata": {},
   "source": [
    "### Подготовка выборок"
   ]
  },
  {
   "cell_type": "markdown",
   "metadata": {},
   "source": [
    "На этом шаге мы \n",
    "- обработаем категориальные столбцы техникой `One-hot-encoding`\n",
    "- разобьем данные на выборки в соотношении 3:1:1 (обучающая, валидационная, тестовая)\n",
    "- проведем стандартизацию количественных столбцов. "
   ]
  },
  {
   "cell_type": "code",
   "execution_count": 38,
   "metadata": {
    "scrolled": true
   },
   "outputs": [
    {
     "name": "stdout",
     "output_type": "stream",
     "text": [
      "Размеры выборок:\n",
      "\n",
      "Обучающая \n",
      " (6000, 11) \n",
      " (6000,) \n",
      "\n",
      "Валидационная \n",
      " (2000, 11) \n",
      " (2000,) \n",
      "\n",
      "Тестовая \n",
      " (2000, 11) \n",
      " (2000,) \n",
      "\n"
     ]
    },
    {
     "name": "stderr",
     "output_type": "stream",
     "text": [
      "/tmp/ipykernel_268/2337111472.py:27: SettingWithCopyWarning: \n",
      "A value is trying to be set on a copy of a slice from a DataFrame.\n",
      "Try using .loc[row_indexer,col_indexer] = value instead\n",
      "\n",
      "See the caveats in the documentation: https://pandas.pydata.org/pandas-docs/stable/user_guide/indexing.html#returning-a-view-versus-a-copy\n",
      "  features_train[numeric] = scaler.transform(features_train[numeric])\n",
      "/opt/conda/lib/python3.9/site-packages/pandas/core/indexing.py:1738: SettingWithCopyWarning: \n",
      "A value is trying to be set on a copy of a slice from a DataFrame.\n",
      "Try using .loc[row_indexer,col_indexer] = value instead\n",
      "\n",
      "See the caveats in the documentation: https://pandas.pydata.org/pandas-docs/stable/user_guide/indexing.html#returning-a-view-versus-a-copy\n",
      "  self._setitem_single_column(loc, value[:, i].tolist(), pi)\n"
     ]
    }
   ],
   "source": [
    "#воспользуемся техникой ОНЕ для категорильных столбцов\n",
    "data_ohe = pd.get_dummies(data, columns=['Geography', 'Gender'], drop_first=True)\n",
    "\n",
    "#выделим из данных целевой признак\n",
    "train = data_ohe['Exited']\n",
    "features = data_ohe.drop(['Exited', 'Surname', 'RowNumber', 'CustomerId'], axis=1)\n",
    "\n",
    "#разобьем на выборки\n",
    "features_train, features_test,  target_train, target_test = train_test_split(features, \n",
    "                                                                               train, \n",
    "                                                                               test_size=0.4, \n",
    "                                                                               random_state=12345,\n",
    "                                                                               stratify=train\n",
    "                                                                       )\n",
    "\n",
    "features_valid, features_test, target_valid, target_test = train_test_split(features_test, \n",
    "                                                                            target_test, \n",
    "                                                                            test_size=0.5, \n",
    "                                                                            random_state=12345,\n",
    "                                                                            stratify=target_test\n",
    "                                                                        )\n",
    "#стандартизируем данные\n",
    "numeric = ['CreditScore', 'Age', 'Balance', 'HasCrCard', 'IsActiveMember', 'EstimatedSalary', 'Tenure', 'NumOfProducts']\n",
    "scaler = StandardScaler()\n",
    "scaler.fit(features_train[numeric])\n",
    "\n",
    "features_train[numeric] = scaler.transform(features_train[numeric])\n",
    "features_valid[numeric]= scaler.transform(features_valid[numeric]) \n",
    "features_test[numeric]= scaler.transform(features_test[numeric])\n",
    "\n",
    "print('Размеры выборок:\\n')\n",
    "print('Обучающая', '\\n', features_train.shape, '\\n', target_train.shape, '\\n')\n",
    "print('Валидационная', '\\n', features_valid.shape, '\\n', target_valid.shape, '\\n')\n",
    "print('Тестовая', '\\n', features_test.shape, '\\n', target_test.shape, '\\n')"
   ]
  },
  {
   "cell_type": "markdown",
   "metadata": {},
   "source": [
    "### Обучение на несбалансированных данных"
   ]
  },
  {
   "cell_type": "markdown",
   "metadata": {},
   "source": [
    "Обучим три модели: \n",
    "- DecisionTreeClassifier\n",
    "- RandomForestClassifier\n",
    "- LogisticRegression. \n",
    "\n",
    "\n",
    "Сравним их по значению f1-меры на валидационной выборке. "
   ]
  },
  {
   "cell_type": "code",
   "execution_count": 39,
   "metadata": {},
   "outputs": [],
   "source": [
    "#заведем датафрейм для записи результатов\n",
    "result = pd.DataFrame(data=['F1', 'Best_depth', 'Best_est', 'AUC-ROC'])"
   ]
  },
  {
   "cell_type": "markdown",
   "metadata": {},
   "source": [
    "Опишем функцию для обучения и анализа каждой модели. "
   ]
  },
  {
   "cell_type": "code",
   "execution_count": 40,
   "metadata": {},
   "outputs": [],
   "source": [
    "#построение графика\n",
    "def auc_roc_plot (fpr, tpr):\n",
    "    plt.figure()\n",
    "    plt.plot(fpr, tpr)\n",
    "    plt.plot([0, 1], [0, 1], linestyle='--')\n",
    "    plt.xlim([0.0 , 1.0])\n",
    "    plt.ylim([0.0 , 1.0])\n",
    "    plt.xlabel('False Positive Rate')\n",
    "    plt.ylabel('True Positive Rate')\n",
    "    plt.title('ROC-кривая')\n",
    "    print()\n",
    "    plt.show()"
   ]
  },
  {
   "cell_type": "code",
   "execution_count": 41,
   "metadata": {},
   "outputs": [],
   "source": [
    "#DTC\n",
    "def DTC (x_train, y_train, x_valid, y_valid, balance):\n",
    "    best_model_dtc = None\n",
    "    best_depth_dtc = 0\n",
    "    best_f1_dtc = 0\n",
    "    for depth in range(1, 100):\n",
    "        model_dtc = DecisionTreeClassifier(random_state=12345, \n",
    "                                           max_depth=depth, \n",
    "                                           class_weight=balance).fit(x_train, y_train)\n",
    "        predict = model_dtc.predict(x_valid)\n",
    "        f1_dtc = f1_score(y_valid, predict)\n",
    "        if best_f1_dtc < f1_dtc:\n",
    "            best_model_dtc = model_dtc\n",
    "            best_depth_dtc = depth\n",
    "            best_f1_dtc = f1_dtc\n",
    "                \n",
    "    probabilities_valid = best_model_dtc.predict_proba(x_valid)\n",
    "    probabilities_one_valid = probabilities_valid[:, 1]\n",
    "    auc_roc = roc_auc_score(y_valid, probabilities_one_valid)\n",
    "    fpr, tpr, thresholds = roc_curve(y_valid, probabilities_one_valid)\n",
    "    print('DecisionTreeClassifier')\n",
    "    print('Лучшее значение F1 =', best_f1_dtc)\n",
    "    print('Значение AUC-ROC =', auc_roc)\n",
    "    print()\n",
    "    auc_roc_plot(fpr, tpr)\n",
    "    plt.show()\n",
    "    \n",
    "    return  best_f1_dtc, best_model_dtc, best_depth_dtc, auc_roc"
   ]
  },
  {
   "cell_type": "code",
   "execution_count": 42,
   "metadata": {},
   "outputs": [],
   "source": [
    "#RFC\n",
    "def RFC (x_train, y_train, x_valid, y_valid, balance):\n",
    "    best_model_rfc = None\n",
    "    best_f1_rfc = 0\n",
    "    \n",
    "    for est in range(10, 100):\n",
    "        for depth in range(1, 11):\n",
    "            model_rfc = RandomForestClassifier(random_state=12345, \n",
    "                                               max_depth=depth, \n",
    "                                               n_estimators=est,\n",
    "                                               class_weight=balance).fit(x_train, y_train)\n",
    "            predict = model_rfc.predict(x_valid)\n",
    "            f1_rfc = f1_score(y_valid, predict)\n",
    "            if best_f1_rfc < f1_rfc:\n",
    "                best_model_rfc = model_rfc\n",
    "                best_f1_rfc = f1_rfc\n",
    "                best_depth_rfc = depth\n",
    "                best_est_rfc = est\n",
    "                \n",
    "    probabilities_valid = best_model_rfc.predict_proba(x_valid)\n",
    "    probabilities_one_valid = probabilities_valid[:, 1]\n",
    "    auc_roc = roc_auc_score(y_valid, probabilities_one_valid)\n",
    "    fpr, tpr, thresholds = roc_curve(y_valid, probabilities_one_valid)\n",
    "    print('RandomForestClassifier')\n",
    "    print('Лучшее значение F1 =', best_f1_rfc)\n",
    "    print('Значение AUC-ROC =', auc_roc)\n",
    "    print()\n",
    "    auc_roc_plot(fpr, tpr)\n",
    "    plt.show()\n",
    "\n",
    "    return best_f1_rfc, best_model_rfc, best_depth_rfc, best_est_rfc, auc_roc"
   ]
  },
  {
   "cell_type": "code",
   "execution_count": 43,
   "metadata": {},
   "outputs": [],
   "source": [
    "#LG\n",
    "def LG (x_train, y_train, x_valid, y_valid, balance):\n",
    "    best_model = None\n",
    "    model = LogisticRegression(random_state=12345, class_weight=balance, solver='liblinear')\n",
    "    model.fit(x_train, y_train)\n",
    "    predict = model.predict(x_valid)\n",
    "\n",
    "    probabilities_valid = model.predict_proba(x_valid)\n",
    "    probabilities_one_valid = probabilities_valid[:, 1]\n",
    "\n",
    "    fpr, tpr, thresholds = roc_curve(y_valid, probabilities_one_valid)\n",
    "    auc_roc = roc_auc_score(y_valid, probabilities_one_valid)\n",
    "    f1_lg = f1_score(y_valid, predict)\n",
    "    print('LogisticRegression')\n",
    "    print('Значение F1 =', f1_lg)\n",
    "    print('Значение AUC-ROC =', auc_roc)\n",
    "    print()\n",
    "    auc_roc_plot(fpr, tpr)\n",
    "    plt.show()\n",
    "    \n",
    "    return f1_lg, model, auc_roc"
   ]
  },
  {
   "cell_type": "code",
   "execution_count": 44,
   "metadata": {
    "scrolled": false
   },
   "outputs": [
    {
     "name": "stdout",
     "output_type": "stream",
     "text": [
      "DecisionTreeClassifier\n",
      "Лучшее значение F1 = 0.5924855491329479\n",
      "Значение AUC-ROC = 0.8247056360232534\n",
      "\n",
      "\n"
     ]
    },
    {
     "data": {
      "image/png": "[encoded data removed]",
      "text/plain": [
       "<Figure size 432x288 with 1 Axes>"
      ]
     },
     "metadata": {
      "needs_background": "light"
     },
     "output_type": "display_data"
    },
    {
     "name": "stdout",
     "output_type": "stream",
     "text": [
      "RandomForestClassifier\n",
      "Лучшее значение F1 = 0.6114457831325301\n",
      "Значение AUC-ROC = 0.8681735885308899\n",
      "\n",
      "\n"
     ]
    },
    {
     "data": {
      "image/png": "[encoded data removed]",
      "text/plain": [
       "<Figure size 432x288 with 1 Axes>"
      ]
     },
     "metadata": {
      "needs_background": "light"
     },
     "output_type": "display_data"
    },
    {
     "name": "stdout",
     "output_type": "stream",
     "text": [
      "LogisticRegression\n",
      "Значение F1 = 0.30458715596330277\n",
      "Значение AUC-ROC = 0.7875098531875061\n",
      "\n",
      "\n"
     ]
    },
    {
     "data": {
      "image/png": "[encoded data removed]",
      "text/plain": [
       "<Figure size 432x288 with 1 Axes>"
      ]
     },
     "metadata": {
      "needs_background": "light"
     },
     "output_type": "display_data"
    }
   ],
   "source": [
    "f1, model_dtc, depth, ar = DTC(features_train, target_train, features_valid, target_valid, None)\n",
    "result['DTC'] = [f1, depth, 0, ar]\n",
    "f1, model_rfc, depth, est, ar = RFC(features_train, target_train, features_valid, target_valid, None)\n",
    "result['RFC'] = [f1, depth, est, ar]\n",
    "f1, model_lg, ar = LG(features_train, target_train, features_valid, target_valid, None)\n",
    "result['LG'] = [f1, 0, 0, ar]"
   ]
  },
  {
   "cell_type": "code",
   "execution_count": 45,
   "metadata": {},
   "outputs": [
    {
     "data": {
      "text/html": [
       "<div>\n",
       "<style scoped>\n",
       "    .dataframe tbody tr th:only-of-type {\n",
       "        vertical-align: middle;\n",
       "    }\n",
       "\n",
       "    .dataframe tbody tr th {\n",
       "        vertical-align: top;\n",
       "    }\n",
       "\n",
       "    .dataframe thead th {\n",
       "        text-align: right;\n",
       "    }\n",
       "</style>\n",
       "<table border=\"1\" class=\"dataframe\">\n",
       "  <thead>\n",
       "    <tr style=\"text-align: right;\">\n",
       "      <th></th>\n",
       "      <th>0</th>\n",
       "      <th>DTC</th>\n",
       "      <th>RFC</th>\n",
       "      <th>LG</th>\n",
       "    </tr>\n",
       "  </thead>\n",
       "  <tbody>\n",
       "    <tr>\n",
       "      <th>0</th>\n",
       "      <td>F1</td>\n",
       "      <td>0.592486</td>\n",
       "      <td>0.611446</td>\n",
       "      <td>0.304587</td>\n",
       "    </tr>\n",
       "    <tr>\n",
       "      <th>1</th>\n",
       "      <td>Best_depth</td>\n",
       "      <td>7.000000</td>\n",
       "      <td>10.000000</td>\n",
       "      <td>0.000000</td>\n",
       "    </tr>\n",
       "    <tr>\n",
       "      <th>2</th>\n",
       "      <td>Best_est</td>\n",
       "      <td>0.000000</td>\n",
       "      <td>19.000000</td>\n",
       "      <td>0.000000</td>\n",
       "    </tr>\n",
       "    <tr>\n",
       "      <th>3</th>\n",
       "      <td>AUC-ROC</td>\n",
       "      <td>0.824706</td>\n",
       "      <td>0.868174</td>\n",
       "      <td>0.787510</td>\n",
       "    </tr>\n",
       "  </tbody>\n",
       "</table>\n",
       "</div>"
      ],
      "text/plain": [
       "            0       DTC        RFC        LG\n",
       "0          F1  0.592486   0.611446  0.304587\n",
       "1  Best_depth  7.000000  10.000000  0.000000\n",
       "2    Best_est  0.000000  19.000000  0.000000\n",
       "3     AUC-ROC  0.824706   0.868174  0.787510"
      ]
     },
     "execution_count": 45,
     "metadata": {},
     "output_type": "execute_result"
    }
   ],
   "source": [
    "result"
   ]
  },
  {
   "cell_type": "markdown",
   "metadata": {},
   "source": [
    "Худший результат показала логистическая регрессия, которая наиболее чувствительна с дисбалансу классов."
   ]
  },
  {
   "cell_type": "markdown",
   "metadata": {},
   "source": [
    "## Борьба с дисбалансом"
   ]
  },
  {
   "cell_type": "markdown",
   "metadata": {},
   "source": [
    "Проверим, сбалансированы ли данные. "
   ]
  },
  {
   "cell_type": "code",
   "execution_count": 46,
   "metadata": {},
   "outputs": [
    {
     "name": "stdout",
     "output_type": "stream",
     "text": [
      "Тренировочная выборка\n",
      " [0.7963333333333333, 0.20366666666666666] \n",
      "\n",
      "Валидационная выборка\n",
      " [0.796, 0.204] \n",
      "\n"
     ]
    }
   ],
   "source": [
    "train_rate = list(target_train.value_counts(normalize=True))\n",
    "valid_rate = list(target_valid.value_counts(normalize=True))\n",
    "print('Тренировочная выборка\\n', train_rate, '\\n')\n",
    "print('Валидационная выборка\\n', valid_rate, '\\n')"
   ]
  },
  {
   "cell_type": "markdown",
   "metadata": {},
   "source": [
    "Для получения сбалансированных классов применим несколько техник и проверим, какая сработает лучше. \n"
   ]
  },
  {
   "cell_type": "code",
   "execution_count": 47,
   "metadata": {
    "scrolled": true
   },
   "outputs": [
    {
     "name": "stdout",
     "output_type": "stream",
     "text": [
      "Тренировочная выборка\n",
      " [0.5056900475894889, 0.49430995241051107] \n",
      "\n"
     ]
    }
   ],
   "source": [
    "def upsample(features, target, repeat): \n",
    "    features_zeros = features[target == 0] \n",
    "    features_ones = features[target == 1] \n",
    "    target_zeros = target[target == 0] \n",
    "    target_ones = target[target == 1]\n",
    "    \n",
    "    features_upsampled = pd.concat([features_zeros] + [features_ones] * repeat) \n",
    "    target_upsampled = pd.concat([target_zeros] + [target_ones] * repeat)\n",
    "    features_upsampled, target_upsampled = shuffle( features_upsampled, target_upsampled, random_state=12345)\n",
    "    return features_upsampled, target_upsampled\n",
    "\n",
    "features_upsampled_train, target_upsampled_train = upsample(\n",
    "    features_train, target_train, round(train_rate[0] / train_rate[1])\n",
    "    )\n",
    "#features_upsampled_valid, target_upsampled_valid = upsample(\n",
    " #   features_valid, target_valid, round(valid_rate[0] / valid_rate[1])\n",
    "  #  )\n",
    "\n",
    "print('Тренировочная выборка\\n', list(target_upsampled_train.value_counts(normalize=True)), '\\n')\n",
    "#print('Валидационная выборка\\n', list(target_upsampled_valid.value_counts(normalize=True)), '\\n')\n"
   ]
  },
  {
   "cell_type": "code",
   "execution_count": 48,
   "metadata": {
    "scrolled": true
   },
   "outputs": [
    {
     "name": "stdout",
     "output_type": "stream",
     "text": [
      "Тренировочная выборка\n",
      " [0.5, 0.5] \n",
      "\n"
     ]
    }
   ],
   "source": [
    "def downsample(features, target, fraction): \n",
    "    features_zeros = features[target == 0] \n",
    "    features_ones = features[target == 1] \n",
    "    target_zeros = target[target == 0] \n",
    "    target_ones = target[target == 1]\n",
    "    \n",
    "    features_downsampled = pd.concat(\n",
    "        [features_zeros.sample(frac=fraction, random_state=12345)] + [features_ones]\n",
    "    )\n",
    "    target_downsampled = pd.concat(\n",
    "        [target_zeros.sample(frac=fraction, random_state=12345)] + [target_ones]\n",
    "    )\n",
    "    features_downsampled, target_downsampled = shuffle( \n",
    "        features_downsampled, target_downsampled, random_state=12345\n",
    "    )\n",
    "    return features_downsampled, target_downsampled\n",
    "\n",
    "features_downsampled_train, target_downsampled_train  = downsample(features_train, \n",
    "                                                                   target_train, \n",
    "                                                                   train_rate[1] / train_rate[0])\n",
    "#features_downsampled_valid, target_downsampled_valid  = downsample(features_valid, \n",
    " #                                                                  target_valid, \n",
    "  #                                                                 valid_rate[1] / valid_rate[0])\n",
    "print('Тренировочная выборка\\n', list(target_downsampled_train.value_counts(normalize=True)), '\\n')\n",
    "#print('Валидационная выборка\\n', list(target_downsampled_valid.value_counts(normalize=True)), '\\n')"
   ]
  },
  {
   "cell_type": "code",
   "execution_count": 49,
   "metadata": {},
   "outputs": [
    {
     "name": "stdout",
     "output_type": "stream",
     "text": [
      "DecisionTreeClassifier\n",
      "Лучшее значение F1 = 0.575925925925926\n",
      "Значение AUC-ROC = 0.8234278007685487\n",
      "\n",
      "\n"
     ]
    },
    {
     "data": {
      "image/png": "[encoded data removed]",
      "text/plain": [
       "<Figure size 432x288 with 1 Axes>"
      ]
     },
     "metadata": {
      "needs_background": "light"
     },
     "output_type": "display_data"
    },
    {
     "name": "stdout",
     "output_type": "stream",
     "text": [
      "RandomForestClassifier\n",
      "Лучшее значение F1 = 0.6457204767063921\n",
      "Значение AUC-ROC = 0.8751293230860184\n",
      "\n",
      "\n"
     ]
    },
    {
     "data": {
      "image/png": "[encoded data removed]",
      "text/plain": [
       "<Figure size 432x288 with 1 Axes>"
      ]
     },
     "metadata": {
      "needs_background": "light"
     },
     "output_type": "display_data"
    },
    {
     "name": "stdout",
     "output_type": "stream",
     "text": [
      "LogisticRegression\n",
      "Значение F1 = 0.5246753246753246\n",
      "Значение AUC-ROC = 0.7937851019804907\n",
      "\n",
      "\n"
     ]
    },
    {
     "data": {
      "image/png": "[encoded data removed]",
      "text/plain": [
       "<Figure size 432x288 with 1 Axes>"
      ]
     },
     "metadata": {
      "needs_background": "light"
     },
     "output_type": "display_data"
    }
   ],
   "source": [
    "f1, model_dtc_up, depth_up, ar = DTC(features_upsampled_train, \n",
    "                                  target_upsampled_train, \n",
    "                                  features_valid, \n",
    "                                  target_valid, \n",
    "                                  None)\n",
    "result['DTC_up'] = [f1, depth, 0, ar]\n",
    "\n",
    "f1, model_rfc_up, depth_up, est_up, ar = RFC(features_upsampled_train, \n",
    "                                       target_upsampled_train, \n",
    "                                       features_valid, \n",
    "                                       target_valid, \n",
    "                                       None)\n",
    "result['RFC_up'] = [f1, depth_up, est_up, ar]\n",
    "\n",
    "f1, model_lg_up, ra = LG(features_upsampled_train, \n",
    "                         target_upsampled_train, \n",
    "                         features_valid, \n",
    "                         target_valid, \n",
    "                         None)\n",
    "result['LG_up'] = [f1, 0, 0, ar]"
   ]
  },
  {
   "cell_type": "code",
   "execution_count": 50,
   "metadata": {},
   "outputs": [
    {
     "name": "stdout",
     "output_type": "stream",
     "text": [
      "DecisionTreeClassifier\n",
      "Лучшее значение F1 = 0.597918637653737\n",
      "Значение AUC-ROC = 0.8533414622130259\n",
      "\n",
      "\n"
     ]
    },
    {
     "data": {
      "image/png": "[encoded data removed]",
      "text/plain": [
       "<Figure size 432x288 with 1 Axes>"
      ]
     },
     "metadata": {
      "needs_background": "light"
     },
     "output_type": "display_data"
    },
    {
     "name": "stdout",
     "output_type": "stream",
     "text": [
      "RandomForestClassifier\n",
      "Лучшее значение F1 = 0.6355685131195336\n",
      "Значение AUC-ROC = 0.8673075857227314\n",
      "\n",
      "\n"
     ]
    },
    {
     "data": {
      "image/png": "[encoded data removed]",
      "text/plain": [
       "<Figure size 432x288 with 1 Axes>"
      ]
     },
     "metadata": {
      "needs_background": "light"
     },
     "output_type": "display_data"
    },
    {
     "name": "stdout",
     "output_type": "stream",
     "text": [
      "LogisticRegression\n",
      "Значение F1 = 0.5292576419213975\n",
      "Значение AUC-ROC = 0.7925088062863337\n",
      "\n",
      "\n"
     ]
    },
    {
     "data": {
      "image/png": "[encoded data removed]",
      "text/plain": [
       "<Figure size 432x288 with 1 Axes>"
      ]
     },
     "metadata": {
      "needs_background": "light"
     },
     "output_type": "display_data"
    }
   ],
   "source": [
    "f1, model_dtc_down, depth_down, ar = DTC(features_downsampled_train, \n",
    "                                    target_downsampled_train, \n",
    "                                    features_valid, \n",
    "                                    target_valid, \n",
    "                                    None)\n",
    "result['DTC_down'] = [f1, depth_down, 0, ar]\n",
    "\n",
    "f1, model_rfc_down, depth_down, est_down, ar = RFC(features_downsampled_train, \n",
    "                                         target_downsampled_train, \n",
    "                                         features_valid, \n",
    "                                         target_valid, \n",
    "                                         None)\n",
    "result['RFC_down'] = [f1, depth_down, est_down, ar]\n",
    "\n",
    "f1, model_lg_down, ar = LG(features_downsampled_train, \n",
    "                           target_downsampled_train, \n",
    "                           features_valid, \n",
    "                           target_valid, \n",
    "                           None)\n",
    "result['LG_down'] = [f1, 0, 0, ar]"
   ]
  },
  {
   "cell_type": "code",
   "execution_count": 52,
   "metadata": {
    "scrolled": false
   },
   "outputs": [
    {
     "name": "stdout",
     "output_type": "stream",
     "text": [
      "DecisionTreeClassifier\n",
      "Лучшее значение F1 = 0.575925925925926\n",
      "Значение AUC-ROC = 0.8234124051630702\n",
      "\n",
      "\n"
     ]
    },
    {
     "data": {
      "image/png": "[encoded data removed]",
      "text/plain": [
       "<Figure size 432x288 with 1 Axes>"
      ]
     },
     "metadata": {
      "needs_background": "light"
     },
     "output_type": "display_data"
    },
    {
     "name": "stdout",
     "output_type": "stream",
     "text": [
      "RandomForestClassifier\n",
      "Лучшее значение F1 = 0.6534653465346534\n",
      "Значение AUC-ROC = 0.8699456227214504\n",
      "\n",
      "\n"
     ]
    },
    {
     "data": {
      "image/png": "[encoded data removed]",
      "text/plain": [
       "<Figure size 432x288 with 1 Axes>"
      ]
     },
     "metadata": {
      "needs_background": "light"
     },
     "output_type": "display_data"
    },
    {
     "name": "stdout",
     "output_type": "stream",
     "text": [
      "LogisticRegression\n",
      "Значение F1 = 0.5289982425307558\n",
      "Значение AUC-ROC = 0.7937235195585772\n",
      "\n",
      "\n"
     ]
    },
    {
     "data": {
      "image/png": "[encoded data removed]",
      "text/plain": [
       "<Figure size 432x288 with 1 Axes>"
      ]
     },
     "metadata": {
      "needs_background": "light"
     },
     "output_type": "display_data"
    }
   ],
   "source": [
    "f1, model_dtc_balance, depth_balance, ar = DTC(features_train, \n",
    "                                       target_train, \n",
    "                                       features_valid, \n",
    "                                       target_valid, \n",
    "                                       'balanced')\n",
    "result['DTC_balanced'] = [f1, depth_balance, 0, ar]\n",
    "\n",
    "f1, model_rfc_balance, depth_balance, est_balance, ar = RFC(features_train, \n",
    "                                            target_train, \n",
    "                                            features_valid, \n",
    "                                            target_valid, \n",
    "                                            'balanced')\n",
    "result['RFC_balanced'] = [f1, depth_balance, est_balance, ar]\n",
    "\n",
    "f1, model_lg_balance, ar = LG(features_train, \n",
    "                              target_train, \n",
    "                              features_valid, \n",
    "                              target_valid, \n",
    "                              'balanced')\n",
    "result['LG_balanced'] = [f1, 0, 0, ar]"
   ]
  },
  {
   "cell_type": "code",
   "execution_count": 53,
   "metadata": {},
   "outputs": [
    {
     "name": "stdout",
     "output_type": "stream",
     "text": [
      "Наивысшее значение F1 - RFC_balanced 0.6534653465346534\n",
      "Наивысшее значение AUC-ROC - RFC_up 0.8751293230860184\n",
      "\n",
      "Наименьшее значение F1 - LG 0.30458715596330277\n",
      "Наименьшее значение AUC-ROC - LG 0.7875098531875061 \n",
      "\n",
      "RandomForestClassifier(class_weight='balanced', max_depth=8, n_estimators=99,\n",
      "                       random_state=12345)\n"
     ]
    },
    {
     "data": {
      "text/html": [
       "<div>\n",
       "<style scoped>\n",
       "    .dataframe tbody tr th:only-of-type {\n",
       "        vertical-align: middle;\n",
       "    }\n",
       "\n",
       "    .dataframe tbody tr th {\n",
       "        vertical-align: top;\n",
       "    }\n",
       "\n",
       "    .dataframe thead th {\n",
       "        text-align: right;\n",
       "    }\n",
       "</style>\n",
       "<table border=\"1\" class=\"dataframe\">\n",
       "  <thead>\n",
       "    <tr style=\"text-align: right;\">\n",
       "      <th></th>\n",
       "      <th>F1</th>\n",
       "      <th>Best_depth</th>\n",
       "      <th>Best_est</th>\n",
       "      <th>AUC-ROC</th>\n",
       "    </tr>\n",
       "  </thead>\n",
       "  <tbody>\n",
       "    <tr>\n",
       "      <th>DTC</th>\n",
       "      <td>0.592486</td>\n",
       "      <td>7.0</td>\n",
       "      <td>0.0</td>\n",
       "      <td>0.824706</td>\n",
       "    </tr>\n",
       "    <tr>\n",
       "      <th>RFC</th>\n",
       "      <td>0.611446</td>\n",
       "      <td>10.0</td>\n",
       "      <td>19.0</td>\n",
       "      <td>0.868174</td>\n",
       "    </tr>\n",
       "    <tr>\n",
       "      <th>LG</th>\n",
       "      <td>0.304587</td>\n",
       "      <td>0.0</td>\n",
       "      <td>0.0</td>\n",
       "      <td>0.787510</td>\n",
       "    </tr>\n",
       "    <tr>\n",
       "      <th>DTC_up</th>\n",
       "      <td>0.575926</td>\n",
       "      <td>10.0</td>\n",
       "      <td>0.0</td>\n",
       "      <td>0.823428</td>\n",
       "    </tr>\n",
       "    <tr>\n",
       "      <th>RFC_up</th>\n",
       "      <td>0.645720</td>\n",
       "      <td>9.0</td>\n",
       "      <td>59.0</td>\n",
       "      <td>0.875129</td>\n",
       "    </tr>\n",
       "    <tr>\n",
       "      <th>LG_up</th>\n",
       "      <td>0.524675</td>\n",
       "      <td>0.0</td>\n",
       "      <td>0.0</td>\n",
       "      <td>0.875129</td>\n",
       "    </tr>\n",
       "    <tr>\n",
       "      <th>DTC_down</th>\n",
       "      <td>0.597919</td>\n",
       "      <td>6.0</td>\n",
       "      <td>0.0</td>\n",
       "      <td>0.853341</td>\n",
       "    </tr>\n",
       "    <tr>\n",
       "      <th>RFC_down</th>\n",
       "      <td>0.635569</td>\n",
       "      <td>5.0</td>\n",
       "      <td>17.0</td>\n",
       "      <td>0.867308</td>\n",
       "    </tr>\n",
       "    <tr>\n",
       "      <th>LG_down</th>\n",
       "      <td>0.529258</td>\n",
       "      <td>0.0</td>\n",
       "      <td>0.0</td>\n",
       "      <td>0.792509</td>\n",
       "    </tr>\n",
       "    <tr>\n",
       "      <th>DTC_balanced</th>\n",
       "      <td>0.575926</td>\n",
       "      <td>6.0</td>\n",
       "      <td>0.0</td>\n",
       "      <td>0.823412</td>\n",
       "    </tr>\n",
       "    <tr>\n",
       "      <th>RFC_balanced</th>\n",
       "      <td>0.653465</td>\n",
       "      <td>8.0</td>\n",
       "      <td>99.0</td>\n",
       "      <td>0.869946</td>\n",
       "    </tr>\n",
       "    <tr>\n",
       "      <th>LG_balanced</th>\n",
       "      <td>0.528998</td>\n",
       "      <td>0.0</td>\n",
       "      <td>0.0</td>\n",
       "      <td>0.793724</td>\n",
       "    </tr>\n",
       "  </tbody>\n",
       "</table>\n",
       "</div>"
      ],
      "text/plain": [
       "0                   F1  Best_depth  Best_est   AUC-ROC\n",
       "DTC           0.592486         7.0       0.0  0.824706\n",
       "RFC           0.611446        10.0      19.0  0.868174\n",
       "LG            0.304587         0.0       0.0  0.787510\n",
       "DTC_up        0.575926        10.0       0.0  0.823428\n",
       "RFC_up        0.645720         9.0      59.0  0.875129\n",
       "LG_up         0.524675         0.0       0.0  0.875129\n",
       "DTC_down      0.597919         6.0       0.0  0.853341\n",
       "RFC_down      0.635569         5.0      17.0  0.867308\n",
       "LG_down       0.529258         0.0       0.0  0.792509\n",
       "DTC_balanced  0.575926         6.0       0.0  0.823412\n",
       "RFC_balanced  0.653465         8.0      99.0  0.869946\n",
       "LG_balanced   0.528998         0.0       0.0  0.793724"
      ]
     },
     "execution_count": 53,
     "metadata": {},
     "output_type": "execute_result"
    }
   ],
   "source": [
    "result = result.set_index(0).T\n",
    "print('Наивысшее значение F1 -', result['F1'].idxmax(), result['F1'].max())\n",
    "print('Наивысшее значение AUC-ROC -', result['AUC-ROC'].idxmax(), result['AUC-ROC'].max())\n",
    "print()\n",
    "print('Наименьшее значение F1 -', result['F1'].idxmin(), result['F1'].min())\n",
    "print('Наименьшее значение AUC-ROC -', result['AUC-ROC'].idxmin(), result['AUC-ROC'].min(), '\\n')\n",
    "\n",
    "\n",
    "print(model_rfc_balance)\n",
    "result"
   ]
  },
  {
   "cell_type": "markdown",
   "metadata": {},
   "source": [
    "Худший результат показала логистическая регрессия. \n",
    "\n",
    "Так как мы оцениваем модели по F1, на тестирование пойдет модель RandomForestClassifier: class_weight='balanced', max_depth=8, n_estimators=99."
   ]
  },
  {
   "cell_type": "markdown",
   "metadata": {},
   "source": [
    "## Тестирование модели"
   ]
  },
  {
   "cell_type": "code",
   "execution_count": 58,
   "metadata": {},
   "outputs": [],
   "source": [
    "# объединим тренировочную и валидационную выборки \n",
    "features = pd.concat([features_train, features_valid])\n",
    "target = pd.concat([target_train, target_valid])"
   ]
  },
  {
   "cell_type": "code",
   "execution_count": 67,
   "metadata": {
    "scrolled": true
   },
   "outputs": [
    {
     "name": "stdout",
     "output_type": "stream",
     "text": [
      "Тестирование модели\n",
      "Accuracy -  0.8215\n",
      "F1 -  0.6115342763873776\n",
      "ROC-AUC -  0.8576079932012135\n",
      "\n"
     ]
    },
    {
     "data": {
      "image/png": "[encoded data removed]",
      "text/plain": [
       "<Figure size 432x288 with 1 Axes>"
      ]
     },
     "metadata": {
      "needs_background": "light"
     },
     "output_type": "display_data"
    }
   ],
   "source": [
    "model_test = RandomForestClassifier(random_state=12345,\n",
    "                                    max_depth=depth_balance,\n",
    "                                    n_estimators=est_balance,\n",
    "                                    class_weight='balanced').fit(features, target)\n",
    "predict_test = model_test.predict(features_test)\n",
    "\n",
    "proba_test = model_test.predict_proba(features_test)\n",
    "proba_one_test = proba_test[:, 1]\n",
    "\n",
    "accuracy_test = accuracy_score(target_test, predict_test)\n",
    "f1_test = f1_score(target_test, predict_test)\n",
    "auc_roc_test = roc_auc_score(target_test, proba_one_test)\n",
    "fpr_test, tpr_test, thresholds_test = roc_curve(target_test, proba_one_test)\n",
    "print('Тестирование модели')\n",
    "print('Accuracy - ', accuracy_test)\n",
    "print('F1 - ', f1_test)\n",
    "print('AUC-ROC - ', auc_roc_test)\n",
    "auc_roc_plot(fpr_test, tpr_test)"
   ]
  },
  {
   "cell_type": "code",
   "execution_count": 68,
   "metadata": {
    "scrolled": true
   },
   "outputs": [
    {
     "name": "stdout",
     "output_type": "stream",
     "text": [
      "Accuracy случайных данных: 0.7965\n"
     ]
    }
   ],
   "source": [
    "#проверим на адекватность\n",
    "model_dummy = DummyClassifier(strategy='most_frequent', random_state=12345).fit(features, target)\n",
    "result_dummy = model_dummy.score(features_test, target_test)\n",
    "print('Accuracy случайных данных:', result_dummy)"
   ]
  },
  {
   "cell_type": "markdown",
   "metadata": {},
   "source": [
    "## Вывод"
   ]
  },
  {
   "cell_type": "markdown",
   "metadata": {},
   "source": [
    "- Лучший результат показал \"случайный лес\", выравненный через параметр `class_weight`\n",
    "- Оптимальные гиперпараметры: глубина - 8, количество деревьев - 99\n",
    "- На тесте модель показала результат: ***Accuracy* -  0.8215, *F1* -  0.6115, *AUC-ROC* -  0.8576**\n",
    "- Худший результат показала логистическая регрессия"
   ]
  },
  {
   "cell_type": "code",
   "execution_count": null,
   "metadata": {},
   "outputs": [],
   "source": []
  }
 ],
 "metadata": {
  "ExecuteTimeLog": [
   {
    "duration": 488,
    "start_time": "2022-10-14T13:57:40.166Z"
   },
   {
    "duration": 182,
    "start_time": "2022-10-14T13:58:37.418Z"
   },
   {
    "duration": 93,
    "start_time": "2022-10-14T13:59:07.766Z"
   },
   {
    "duration": 25,
    "start_time": "2022-10-14T14:00:38.978Z"
   },
   {
    "duration": 11,
    "start_time": "2022-10-14T14:01:21.070Z"
   },
   {
    "duration": 22,
    "start_time": "2022-10-14T14:01:24.766Z"
   },
   {
    "duration": 21,
    "start_time": "2022-10-14T14:02:18.516Z"
   },
   {
    "duration": 12,
    "start_time": "2022-10-14T14:04:28.347Z"
   },
   {
    "duration": 13,
    "start_time": "2022-10-14T14:04:37.033Z"
   },
   {
    "duration": 13,
    "start_time": "2022-10-14T14:04:42.202Z"
   },
   {
    "duration": 96,
    "start_time": "2022-10-14T14:05:44.057Z"
   },
   {
    "duration": 86,
    "start_time": "2022-10-14T14:05:53.901Z"
   },
   {
    "duration": 94,
    "start_time": "2022-10-14T14:06:14.490Z"
   },
   {
    "duration": 91,
    "start_time": "2022-10-14T14:06:33.574Z"
   },
   {
    "duration": 107,
    "start_time": "2022-10-14T14:06:48.649Z"
   },
   {
    "duration": 109,
    "start_time": "2022-10-14T14:07:00.109Z"
   },
   {
    "duration": 22,
    "start_time": "2022-10-14T14:07:15.639Z"
   },
   {
    "duration": 17,
    "start_time": "2022-10-14T14:07:56.061Z"
   },
   {
    "duration": 31,
    "start_time": "2022-10-14T14:08:30.875Z"
   },
   {
    "duration": 7,
    "start_time": "2022-10-14T14:09:22.310Z"
   },
   {
    "duration": 105,
    "start_time": "2022-10-14T14:09:41.881Z"
   },
   {
    "duration": 26,
    "start_time": "2022-10-14T14:09:46.949Z"
   },
   {
    "duration": 42,
    "start_time": "2022-10-14T14:09:52.065Z"
   },
   {
    "duration": 31,
    "start_time": "2022-10-14T14:09:56.567Z"
   },
   {
    "duration": 20,
    "start_time": "2022-10-14T14:10:05.634Z"
   },
   {
    "duration": 72,
    "start_time": "2022-10-14T14:14:00.577Z"
   },
   {
    "duration": 9,
    "start_time": "2022-10-14T14:14:03.538Z"
   },
   {
    "duration": 8,
    "start_time": "2022-10-14T14:14:16.881Z"
   },
   {
    "duration": 207,
    "start_time": "2022-10-14T14:30:39.617Z"
   },
   {
    "duration": 29,
    "start_time": "2022-10-14T14:30:46.099Z"
   },
   {
    "duration": 21,
    "start_time": "2022-10-14T14:31:05.829Z"
   },
   {
    "duration": 16,
    "start_time": "2022-10-14T14:31:35.833Z"
   },
   {
    "duration": 13,
    "start_time": "2022-10-14T14:31:47.741Z"
   },
   {
    "duration": 21,
    "start_time": "2022-10-14T14:31:53.669Z"
   },
   {
    "duration": 13,
    "start_time": "2022-10-14T14:35:52.221Z"
   },
   {
    "duration": 755,
    "start_time": "2022-10-14T14:44:18.981Z"
   },
   {
    "duration": 59,
    "start_time": "2022-10-14T14:46:27.341Z"
   },
   {
    "duration": 19,
    "start_time": "2022-10-14T14:46:40.697Z"
   },
   {
    "duration": 132,
    "start_time": "2022-10-14T14:46:41.866Z"
   },
   {
    "duration": 22,
    "start_time": "2022-10-14T14:46:42.673Z"
   },
   {
    "duration": 8,
    "start_time": "2022-10-14T14:46:43.440Z"
   },
   {
    "duration": 26,
    "start_time": "2022-10-14T14:46:44.772Z"
   },
   {
    "duration": 26,
    "start_time": "2022-10-14T14:50:22.453Z"
   },
   {
    "duration": 21,
    "start_time": "2022-10-14T14:51:08.937Z"
   },
   {
    "duration": 20,
    "start_time": "2022-10-14T14:51:16.997Z"
   },
   {
    "duration": 27,
    "start_time": "2022-10-14T14:51:21.864Z"
   },
   {
    "duration": 5,
    "start_time": "2022-10-14T14:51:26.797Z"
   },
   {
    "duration": 7,
    "start_time": "2022-10-14T14:51:30.933Z"
   },
   {
    "duration": 6,
    "start_time": "2022-10-14T14:51:41.040Z"
   },
   {
    "duration": 23,
    "start_time": "2022-10-14T14:51:45.418Z"
   },
   {
    "duration": 34,
    "start_time": "2022-10-14T14:52:30.196Z"
   },
   {
    "duration": 22,
    "start_time": "2022-10-14T14:52:44.977Z"
   },
   {
    "duration": 24,
    "start_time": "2022-10-14T14:54:04.673Z"
   },
   {
    "duration": 26,
    "start_time": "2022-10-14T14:55:38.608Z"
   },
   {
    "duration": 24,
    "start_time": "2022-10-14T14:55:44.750Z"
   },
   {
    "duration": 38,
    "start_time": "2022-10-14T14:56:09.560Z"
   },
   {
    "duration": 26,
    "start_time": "2022-10-14T14:56:40.180Z"
   },
   {
    "duration": 40,
    "start_time": "2022-10-14T14:56:41.356Z"
   },
   {
    "duration": 26,
    "start_time": "2022-10-14T15:02:22.707Z"
   },
   {
    "duration": 67,
    "start_time": "2022-10-14T15:02:32.004Z"
   },
   {
    "duration": 46,
    "start_time": "2022-10-14T15:03:24.623Z"
   },
   {
    "duration": 42,
    "start_time": "2022-10-14T15:04:06.051Z"
   },
   {
    "duration": 46,
    "start_time": "2022-10-14T15:05:07.887Z"
   },
   {
    "duration": 46,
    "start_time": "2022-10-15T21:45:13.838Z"
   },
   {
    "duration": 9,
    "start_time": "2022-10-15T21:45:25.801Z"
   },
   {
    "duration": 1112,
    "start_time": "2022-10-15T21:45:38.899Z"
   },
   {
    "duration": 149,
    "start_time": "2022-10-15T21:45:40.013Z"
   },
   {
    "duration": 19,
    "start_time": "2022-10-15T21:45:40.164Z"
   },
   {
    "duration": 8,
    "start_time": "2022-10-15T21:45:40.185Z"
   },
   {
    "duration": 115,
    "start_time": "2022-10-15T21:45:40.194Z"
   },
   {
    "duration": 119,
    "start_time": "2022-10-15T21:45:40.311Z"
   },
   {
    "duration": 69,
    "start_time": "2022-10-15T21:47:01.511Z"
   },
   {
    "duration": 44,
    "start_time": "2022-10-15T21:47:19.127Z"
   },
   {
    "duration": 47,
    "start_time": "2022-10-15T21:48:32.051Z"
   },
   {
    "duration": 55,
    "start_time": "2022-10-15T21:49:00.303Z"
   },
   {
    "duration": 57,
    "start_time": "2022-10-15T21:49:37.723Z"
   },
   {
    "duration": 1055,
    "start_time": "2022-10-15T21:49:53.586Z"
   },
   {
    "duration": 94,
    "start_time": "2022-10-15T21:49:54.643Z"
   },
   {
    "duration": 17,
    "start_time": "2022-10-15T21:49:54.738Z"
   },
   {
    "duration": 8,
    "start_time": "2022-10-15T21:49:54.756Z"
   },
   {
    "duration": 76,
    "start_time": "2022-10-15T21:49:54.766Z"
   },
   {
    "duration": 100,
    "start_time": "2022-10-15T21:49:54.844Z"
   },
   {
    "duration": 30,
    "start_time": "2022-10-15T21:50:29.278Z"
   },
   {
    "duration": 29,
    "start_time": "2022-10-15T21:51:05.482Z"
   },
   {
    "duration": 63,
    "start_time": "2022-10-15T21:51:46.058Z"
   },
   {
    "duration": 98,
    "start_time": "2022-10-15T21:52:44.995Z"
   },
   {
    "duration": 101,
    "start_time": "2022-10-15T21:52:58.467Z"
   },
   {
    "duration": 49,
    "start_time": "2022-10-15T21:53:27.726Z"
   },
   {
    "duration": 77,
    "start_time": "2022-10-15T21:53:32.958Z"
   },
   {
    "duration": 50,
    "start_time": "2022-10-15T21:54:08.827Z"
   },
   {
    "duration": 9,
    "start_time": "2022-10-15T21:55:32.682Z"
   },
   {
    "duration": 5,
    "start_time": "2022-10-15T21:55:36.970Z"
   },
   {
    "duration": 7,
    "start_time": "2022-10-15T21:55:45.474Z"
   },
   {
    "duration": 8,
    "start_time": "2022-10-15T21:56:14.311Z"
   },
   {
    "duration": 8,
    "start_time": "2022-10-15T21:56:43.218Z"
   },
   {
    "duration": 9,
    "start_time": "2022-10-15T21:57:32.918Z"
   },
   {
    "duration": 7,
    "start_time": "2022-10-15T21:58:06.006Z"
   },
   {
    "duration": 43,
    "start_time": "2022-10-15T22:04:37.619Z"
   },
   {
    "duration": 8,
    "start_time": "2022-10-15T22:04:51.403Z"
   },
   {
    "duration": 30,
    "start_time": "2022-10-15T22:04:55.767Z"
   },
   {
    "duration": 55,
    "start_time": "2022-10-15T22:05:39.783Z"
   },
   {
    "duration": 10,
    "start_time": "2022-10-15T22:05:43.879Z"
   },
   {
    "duration": 26,
    "start_time": "2022-10-15T22:05:45.055Z"
   },
   {
    "duration": 4,
    "start_time": "2022-10-15T22:07:28.011Z"
   },
   {
    "duration": 42,
    "start_time": "2022-10-15T22:10:08.759Z"
   },
   {
    "duration": 8,
    "start_time": "2022-10-15T22:10:11.423Z"
   },
   {
    "duration": 17,
    "start_time": "2022-10-15T22:10:18.626Z"
   },
   {
    "duration": 7,
    "start_time": "2022-10-15T22:13:04.807Z"
   },
   {
    "duration": 7,
    "start_time": "2022-10-15T22:13:26.995Z"
   },
   {
    "duration": 3,
    "start_time": "2022-10-15T22:14:45.475Z"
   },
   {
    "duration": 87,
    "start_time": "2022-10-15T22:14:47.819Z"
   },
   {
    "duration": 22,
    "start_time": "2022-10-15T22:14:48.607Z"
   },
   {
    "duration": 6,
    "start_time": "2022-10-15T22:14:49.695Z"
   },
   {
    "duration": 46,
    "start_time": "2022-10-15T22:14:51.795Z"
   },
   {
    "duration": 7,
    "start_time": "2022-10-15T22:14:53.640Z"
   },
   {
    "duration": 75,
    "start_time": "2022-10-15T22:14:54.803Z"
   },
   {
    "duration": 82,
    "start_time": "2022-10-15T22:15:04.587Z"
   },
   {
    "duration": 35,
    "start_time": "2022-10-15T22:15:10.707Z"
   },
   {
    "duration": 33,
    "start_time": "2022-10-15T22:15:38.959Z"
   },
   {
    "duration": 29,
    "start_time": "2022-10-15T22:17:37.361Z"
   },
   {
    "duration": 37,
    "start_time": "2022-10-15T22:17:51.203Z"
   },
   {
    "duration": 7,
    "start_time": "2022-10-15T22:20:36.211Z"
   },
   {
    "duration": 30,
    "start_time": "2022-10-15T22:20:48.011Z"
   },
   {
    "duration": 4,
    "start_time": "2022-10-15T22:22:02.487Z"
   },
   {
    "duration": 66,
    "start_time": "2022-10-15T22:23:49.103Z"
   },
   {
    "duration": 18,
    "start_time": "2022-10-15T22:24:12.979Z"
   },
   {
    "duration": 7,
    "start_time": "2022-10-15T22:24:17.903Z"
   },
   {
    "duration": 29,
    "start_time": "2022-10-15T22:24:19.711Z"
   },
   {
    "duration": 18,
    "start_time": "2022-10-15T22:24:21.235Z"
   },
   {
    "duration": 68,
    "start_time": "2022-10-15T22:24:42.963Z"
   },
   {
    "duration": 4,
    "start_time": "2022-10-15T22:26:55.055Z"
   },
   {
    "duration": 5,
    "start_time": "2022-10-15T22:27:02.920Z"
   },
   {
    "duration": 4,
    "start_time": "2022-10-15T22:27:08.099Z"
   },
   {
    "duration": 3,
    "start_time": "2022-10-15T22:27:12.552Z"
   },
   {
    "duration": 9,
    "start_time": "2022-10-15T22:29:54.256Z"
   },
   {
    "duration": 7,
    "start_time": "2022-10-15T22:30:01.603Z"
   },
   {
    "duration": 8,
    "start_time": "2022-10-15T22:30:10.207Z"
   },
   {
    "duration": 10,
    "start_time": "2022-10-15T22:30:35.255Z"
   },
   {
    "duration": 8,
    "start_time": "2022-10-15T22:30:47.807Z"
   },
   {
    "duration": 14,
    "start_time": "2022-10-15T22:31:17.563Z"
   },
   {
    "duration": 11,
    "start_time": "2022-10-15T22:31:47.139Z"
   },
   {
    "duration": 8,
    "start_time": "2022-10-15T22:32:22.433Z"
   },
   {
    "duration": 11,
    "start_time": "2022-10-15T22:32:44.541Z"
   },
   {
    "duration": 1038,
    "start_time": "2022-10-15T22:32:56.019Z"
   },
   {
    "duration": 96,
    "start_time": "2022-10-15T22:32:57.059Z"
   },
   {
    "duration": 17,
    "start_time": "2022-10-15T22:32:57.157Z"
   },
   {
    "duration": 6,
    "start_time": "2022-10-15T22:32:57.176Z"
   },
   {
    "duration": 69,
    "start_time": "2022-10-15T22:32:57.183Z"
   },
   {
    "duration": 10,
    "start_time": "2022-10-15T22:32:57.256Z"
   },
   {
    "duration": 27,
    "start_time": "2022-10-15T22:32:57.267Z"
   },
   {
    "duration": 84,
    "start_time": "2022-10-15T22:32:57.295Z"
   },
   {
    "duration": 40,
    "start_time": "2022-10-15T22:33:49.667Z"
   },
   {
    "duration": 7,
    "start_time": "2022-10-15T22:33:57.511Z"
   },
   {
    "duration": 7,
    "start_time": "2022-10-15T22:34:04.875Z"
   },
   {
    "duration": 99,
    "start_time": "2022-10-15T22:35:39.175Z"
   },
   {
    "duration": 28,
    "start_time": "2022-10-15T22:35:52.411Z"
   },
   {
    "duration": 31,
    "start_time": "2022-10-15T22:36:05.410Z"
   },
   {
    "duration": 33,
    "start_time": "2022-10-15T22:36:20.418Z"
   },
   {
    "duration": 28,
    "start_time": "2022-10-15T22:36:52.537Z"
   },
   {
    "duration": 44,
    "start_time": "2022-10-15T22:37:25.930Z"
   },
   {
    "duration": 42,
    "start_time": "2022-10-15T22:37:53.003Z"
   },
   {
    "duration": 23,
    "start_time": "2022-10-15T22:38:15.031Z"
   },
   {
    "duration": 3,
    "start_time": "2022-10-15T22:39:01.695Z"
   },
   {
    "duration": 4,
    "start_time": "2022-10-15T22:39:27.595Z"
   },
   {
    "duration": 23,
    "start_time": "2022-10-15T22:40:37.003Z"
   },
   {
    "duration": 24,
    "start_time": "2022-10-15T22:40:46.334Z"
   },
   {
    "duration": 22,
    "start_time": "2022-10-15T22:40:47.579Z"
   },
   {
    "duration": 3,
    "start_time": "2022-10-15T22:40:51.239Z"
   },
   {
    "duration": 3,
    "start_time": "2022-10-15T22:40:58.702Z"
   },
   {
    "duration": 84,
    "start_time": "2022-10-15T22:40:59.739Z"
   },
   {
    "duration": 18,
    "start_time": "2022-10-15T22:41:00.513Z"
   },
   {
    "duration": 8,
    "start_time": "2022-10-15T22:41:01.174Z"
   },
   {
    "duration": 41,
    "start_time": "2022-10-15T22:41:02.603Z"
   },
   {
    "duration": 7,
    "start_time": "2022-10-15T22:41:04.163Z"
   },
   {
    "duration": 25,
    "start_time": "2022-10-15T22:41:06.495Z"
   },
   {
    "duration": 34,
    "start_time": "2022-10-15T22:41:08.087Z"
   },
   {
    "duration": 23,
    "start_time": "2022-10-15T22:42:02.279Z"
   },
   {
    "duration": 23,
    "start_time": "2022-10-15T22:42:04.363Z"
   },
   {
    "duration": 5,
    "start_time": "2022-10-15T22:42:10.574Z"
   },
   {
    "duration": 24,
    "start_time": "2022-10-15T22:43:06.814Z"
   },
   {
    "duration": 26,
    "start_time": "2022-10-15T22:43:57.726Z"
   },
   {
    "duration": 23,
    "start_time": "2022-10-15T22:44:09.858Z"
   },
   {
    "duration": 27,
    "start_time": "2022-10-15T22:44:34.282Z"
   },
   {
    "duration": 4,
    "start_time": "2022-10-15T22:44:47.754Z"
   },
   {
    "duration": 46,
    "start_time": "2022-10-15T22:44:58.250Z"
   },
   {
    "duration": 8,
    "start_time": "2022-10-15T22:45:03.422Z"
   },
   {
    "duration": 6,
    "start_time": "2022-10-15T22:45:27.470Z"
   },
   {
    "duration": 8,
    "start_time": "2022-10-15T22:45:35.378Z"
   },
   {
    "duration": 59,
    "start_time": "2022-10-15T22:45:41.302Z"
   },
   {
    "duration": 6,
    "start_time": "2022-10-15T22:45:43.839Z"
   },
   {
    "duration": 6,
    "start_time": "2022-10-15T22:45:48.518Z"
   },
   {
    "duration": 26,
    "start_time": "2022-10-15T22:46:01.234Z"
   },
   {
    "duration": 6,
    "start_time": "2022-10-15T22:46:03.766Z"
   },
   {
    "duration": 4,
    "start_time": "2022-10-15T22:46:06.711Z"
   },
   {
    "duration": 5,
    "start_time": "2022-10-15T22:46:40.943Z"
   },
   {
    "duration": 52,
    "start_time": "2022-10-15T22:47:23.274Z"
   },
   {
    "duration": 45,
    "start_time": "2022-10-15T22:47:38.582Z"
   },
   {
    "duration": 66,
    "start_time": "2022-10-15T22:47:48.502Z"
   },
   {
    "duration": 7,
    "start_time": "2022-10-15T22:47:50.898Z"
   },
   {
    "duration": 7,
    "start_time": "2022-10-15T22:49:11.890Z"
   },
   {
    "duration": 6,
    "start_time": "2022-10-15T22:49:20.518Z"
   },
   {
    "duration": 24,
    "start_time": "2022-10-15T22:50:44.775Z"
   },
   {
    "duration": 23,
    "start_time": "2022-10-15T22:50:50.066Z"
   },
   {
    "duration": 7,
    "start_time": "2022-10-15T22:51:02.430Z"
   },
   {
    "duration": 1024,
    "start_time": "2022-10-15T22:51:22.811Z"
   },
   {
    "duration": 94,
    "start_time": "2022-10-15T22:51:23.978Z"
   },
   {
    "duration": 19,
    "start_time": "2022-10-15T22:51:24.978Z"
   },
   {
    "duration": 6,
    "start_time": "2022-10-15T22:51:25.743Z"
   },
   {
    "duration": 40,
    "start_time": "2022-10-15T22:51:26.675Z"
   },
   {
    "duration": 8,
    "start_time": "2022-10-15T22:51:28.350Z"
   },
   {
    "duration": 26,
    "start_time": "2022-10-15T22:51:30.231Z"
   },
   {
    "duration": 23,
    "start_time": "2022-10-15T22:51:31.603Z"
   },
   {
    "duration": 7,
    "start_time": "2022-10-15T22:51:33.114Z"
   },
   {
    "duration": 3,
    "start_time": "2022-10-15T22:51:45.915Z"
   },
   {
    "duration": 5,
    "start_time": "2022-10-15T22:52:02.010Z"
   },
   {
    "duration": 3,
    "start_time": "2022-10-15T22:52:27.363Z"
   },
   {
    "duration": 4,
    "start_time": "2022-10-15T22:52:31.918Z"
   },
   {
    "duration": 27,
    "start_time": "2022-10-15T22:52:35.330Z"
   },
   {
    "duration": 33,
    "start_time": "2022-10-15T22:52:43.103Z"
   },
   {
    "duration": 23,
    "start_time": "2022-10-15T22:52:44.359Z"
   },
   {
    "duration": 23,
    "start_time": "2022-10-15T22:53:18.258Z"
   },
   {
    "duration": 3,
    "start_time": "2022-10-15T22:57:15.590Z"
   },
   {
    "duration": 89,
    "start_time": "2022-10-15T23:08:52.126Z"
   },
   {
    "duration": 41,
    "start_time": "2022-10-15T23:10:15.398Z"
   },
   {
    "duration": 77,
    "start_time": "2022-10-15T23:10:21.897Z"
   },
   {
    "duration": 32,
    "start_time": "2022-10-15T23:10:25.950Z"
   },
   {
    "duration": 5643,
    "start_time": "2022-10-15T23:10:40.875Z"
   },
   {
    "duration": 51539,
    "start_time": "2022-10-15T23:11:36.774Z"
   },
   {
    "duration": 0,
    "start_time": "2022-10-15T23:15:07.797Z"
   },
   {
    "duration": 3459,
    "start_time": "2022-10-15T23:15:09.163Z"
   },
   {
    "duration": 3419,
    "start_time": "2022-10-15T23:16:05.018Z"
   },
   {
    "duration": 5627,
    "start_time": "2022-10-15T23:16:23.042Z"
   },
   {
    "duration": 5692,
    "start_time": "2022-10-15T23:16:36.443Z"
   },
   {
    "duration": 4935,
    "start_time": "2022-10-15T23:16:58.167Z"
   },
   {
    "duration": 4,
    "start_time": "2022-10-15T23:18:29.866Z"
   },
   {
    "duration": 49,
    "start_time": "2022-10-15T23:20:04.870Z"
   },
   {
    "duration": 8,
    "start_time": "2022-10-15T23:20:09.866Z"
   },
   {
    "duration": 59,
    "start_time": "2022-10-15T23:20:16.726Z"
   },
   {
    "duration": 72,
    "start_time": "2022-10-15T23:20:49.073Z"
   },
   {
    "duration": 60,
    "start_time": "2022-10-15T23:21:13.850Z"
   },
   {
    "duration": 59,
    "start_time": "2022-10-15T23:21:30.791Z"
   },
   {
    "duration": 48,
    "start_time": "2022-10-15T23:21:35.291Z"
   },
   {
    "duration": 8,
    "start_time": "2022-10-15T23:21:36.630Z"
   },
   {
    "duration": 21,
    "start_time": "2022-10-15T23:21:38.602Z"
   },
   {
    "duration": 22,
    "start_time": "2022-10-15T23:21:41.774Z"
   },
   {
    "duration": 5321,
    "start_time": "2022-10-15T23:21:48.646Z"
   },
   {
    "duration": 5323,
    "start_time": "2022-10-15T23:24:24.279Z"
   },
   {
    "duration": 5333,
    "start_time": "2022-10-15T23:24:45.143Z"
   },
   {
    "duration": 4166,
    "start_time": "2022-10-15T23:25:51.882Z"
   },
   {
    "duration": 5330,
    "start_time": "2022-10-15T23:26:13.471Z"
   },
   {
    "duration": 4030,
    "start_time": "2022-10-15T23:26:24.474Z"
   },
   {
    "duration": 4656,
    "start_time": "2022-10-15T23:26:33.222Z"
   },
   {
    "duration": 4589,
    "start_time": "2022-10-15T23:27:10.494Z"
   },
   {
    "duration": 15,
    "start_time": "2022-10-15T23:29:25.966Z"
   },
   {
    "duration": 560,
    "start_time": "2022-10-15T23:30:49.974Z"
   },
   {
    "duration": 544,
    "start_time": "2022-10-15T23:31:03.986Z"
   },
   {
    "duration": 630,
    "start_time": "2022-10-15T23:32:49.506Z"
   },
   {
    "duration": 578,
    "start_time": "2022-10-15T23:33:26.746Z"
   },
   {
    "duration": 613,
    "start_time": "2022-10-15T23:33:36.019Z"
   },
   {
    "duration": 491,
    "start_time": "2022-10-15T23:33:48.142Z"
   },
   {
    "duration": 701,
    "start_time": "2022-10-15T23:33:53.523Z"
   },
   {
    "duration": 607,
    "start_time": "2022-10-15T23:34:03.023Z"
   },
   {
    "duration": 4660,
    "start_time": "2022-10-15T23:36:28.867Z"
   },
   {
    "duration": 4577,
    "start_time": "2022-10-15T23:36:47.746Z"
   },
   {
    "duration": 12755,
    "start_time": "2022-10-15T23:36:59.406Z"
   },
   {
    "duration": 4,
    "start_time": "2022-10-15T23:38:37.378Z"
   },
   {
    "duration": 13219,
    "start_time": "2022-10-15T23:39:57.743Z"
   },
   {
    "duration": 13088,
    "start_time": "2022-10-15T23:41:54.303Z"
   },
   {
    "duration": 13231,
    "start_time": "2022-10-15T23:42:32.190Z"
   },
   {
    "duration": 13110,
    "start_time": "2022-10-15T23:44:20.051Z"
   },
   {
    "duration": 13111,
    "start_time": "2022-10-15T23:46:07.147Z"
   },
   {
    "duration": 13221,
    "start_time": "2022-10-15T23:46:24.458Z"
   },
   {
    "duration": 13138,
    "start_time": "2022-10-15T23:46:43.494Z"
   },
   {
    "duration": 13246,
    "start_time": "2022-10-15T23:48:36.737Z"
   },
   {
    "duration": 13367,
    "start_time": "2022-10-15T23:49:30.319Z"
   },
   {
    "duration": 13046,
    "start_time": "2022-10-15T23:50:03.386Z"
   },
   {
    "duration": 4706,
    "start_time": "2022-10-15T23:50:58.458Z"
   },
   {
    "duration": 13,
    "start_time": "2022-10-16T00:10:48.451Z"
   },
   {
    "duration": 8,
    "start_time": "2022-10-16T00:11:04.034Z"
   },
   {
    "duration": 5,
    "start_time": "2022-10-16T00:11:18.546Z"
   },
   {
    "duration": 4,
    "start_time": "2022-10-16T00:11:32.503Z"
   },
   {
    "duration": 5,
    "start_time": "2022-10-16T00:11:48.498Z"
   },
   {
    "duration": 5,
    "start_time": "2022-10-16T00:11:54.439Z"
   },
   {
    "duration": 11,
    "start_time": "2022-10-16T00:12:33.843Z"
   },
   {
    "duration": 4,
    "start_time": "2022-10-16T00:12:45.843Z"
   },
   {
    "duration": 7,
    "start_time": "2022-10-16T00:12:48.071Z"
   },
   {
    "duration": 16,
    "start_time": "2022-10-16T00:12:49.682Z"
   },
   {
    "duration": 12,
    "start_time": "2022-10-16T00:16:21.723Z"
   },
   {
    "duration": 13,
    "start_time": "2022-10-16T00:16:53.419Z"
   },
   {
    "duration": 11,
    "start_time": "2022-10-16T00:17:16.632Z"
   },
   {
    "duration": 55,
    "start_time": "2022-10-16T00:26:28.224Z"
   },
   {
    "duration": 49,
    "start_time": "2022-10-16T00:26:35.120Z"
   },
   {
    "duration": 12510,
    "start_time": "2022-10-16T00:26:50.845Z"
   },
   {
    "duration": 13063,
    "start_time": "2022-10-16T00:28:03.360Z"
   },
   {
    "duration": 13084,
    "start_time": "2022-10-16T00:28:29.340Z"
   },
   {
    "duration": 6,
    "start_time": "2022-10-16T00:30:59.744Z"
   },
   {
    "duration": 12,
    "start_time": "2022-10-16T00:31:14.460Z"
   },
   {
    "duration": 12,
    "start_time": "2022-10-16T00:31:16.420Z"
   },
   {
    "duration": 8,
    "start_time": "2022-10-16T00:31:55.820Z"
   },
   {
    "duration": 16883,
    "start_time": "2022-10-16T00:32:15.065Z"
   },
   {
    "duration": 24951,
    "start_time": "2022-10-16T00:33:30.512Z"
   },
   {
    "duration": 3,
    "start_time": "2022-10-16T00:33:59.865Z"
   },
   {
    "duration": 24959,
    "start_time": "2022-10-16T00:34:02.608Z"
   },
   {
    "duration": 14,
    "start_time": "2022-10-16T00:35:57.189Z"
   },
   {
    "duration": 12,
    "start_time": "2022-10-16T00:48:04.377Z"
   },
   {
    "duration": 12,
    "start_time": "2022-10-16T00:48:12.809Z"
   },
   {
    "duration": 13,
    "start_time": "2022-10-16T00:48:20.176Z"
   },
   {
    "duration": 13,
    "start_time": "2022-10-16T00:48:26.132Z"
   },
   {
    "duration": 15,
    "start_time": "2022-10-16T00:49:10.560Z"
   },
   {
    "duration": 17,
    "start_time": "2022-10-16T00:49:16.668Z"
   },
   {
    "duration": 16,
    "start_time": "2022-10-16T00:50:12.469Z"
   },
   {
    "duration": 15,
    "start_time": "2022-10-16T00:50:28.305Z"
   },
   {
    "duration": 12964,
    "start_time": "2022-10-16T00:50:50.465Z"
   },
   {
    "duration": 3,
    "start_time": "2022-10-16T00:51:52.765Z"
   },
   {
    "duration": 81,
    "start_time": "2022-10-16T00:51:54.440Z"
   },
   {
    "duration": 26,
    "start_time": "2022-10-16T00:51:56.409Z"
   },
   {
    "duration": 7,
    "start_time": "2022-10-16T00:51:58.121Z"
   },
   {
    "duration": 4,
    "start_time": "2022-10-16T00:52:02.377Z"
   },
   {
    "duration": 46,
    "start_time": "2022-10-16T00:52:03.560Z"
   },
   {
    "duration": 59,
    "start_time": "2022-10-16T00:52:20.821Z"
   },
   {
    "duration": 45,
    "start_time": "2022-10-16T00:52:30.765Z"
   },
   {
    "duration": 13242,
    "start_time": "2022-10-16T00:52:37.581Z"
   },
   {
    "duration": 6,
    "start_time": "2022-10-16T00:53:01.345Z"
   },
   {
    "duration": 6,
    "start_time": "2022-10-16T00:53:27.716Z"
   },
   {
    "duration": 5,
    "start_time": "2022-10-16T00:53:36.489Z"
   },
   {
    "duration": 17,
    "start_time": "2022-10-16T00:53:46.173Z"
   },
   {
    "duration": 16,
    "start_time": "2022-10-16T00:53:55.349Z"
   },
   {
    "duration": 24886,
    "start_time": "2022-10-16T00:53:58.781Z"
   },
   {
    "duration": 15,
    "start_time": "2022-10-16T00:55:56.957Z"
   },
   {
    "duration": 17,
    "start_time": "2022-10-16T00:55:56.973Z"
   },
   {
    "duration": 24873,
    "start_time": "2022-10-16T00:55:56.992Z"
   },
   {
    "duration": 24655,
    "start_time": "2022-10-16T00:57:19.525Z"
   },
   {
    "duration": 24907,
    "start_time": "2022-10-16T00:58:44.828Z"
   },
   {
    "duration": 12833,
    "start_time": "2022-10-16T01:00:12.512Z"
   },
   {
    "duration": 0,
    "start_time": "2022-10-16T01:01:16.222Z"
   },
   {
    "duration": 13159,
    "start_time": "2022-10-16T01:01:17.364Z"
   },
   {
    "duration": 11,
    "start_time": "2022-10-16T01:08:34.073Z"
   },
   {
    "duration": 12726,
    "start_time": "2022-10-16T01:09:19.253Z"
   },
   {
    "duration": 0,
    "start_time": "2022-10-16T01:09:57.315Z"
   },
   {
    "duration": 0,
    "start_time": "2022-10-16T01:10:43.596Z"
   },
   {
    "duration": 12748,
    "start_time": "2022-10-16T01:11:28.949Z"
   },
   {
    "duration": 12780,
    "start_time": "2022-10-16T01:12:19.033Z"
   },
   {
    "duration": 12853,
    "start_time": "2022-10-16T01:12:48.337Z"
   },
   {
    "duration": 13249,
    "start_time": "2022-10-16T01:13:24.481Z"
   },
   {
    "duration": 13450,
    "start_time": "2022-10-16T01:13:50.284Z"
   },
   {
    "duration": 13149,
    "start_time": "2022-10-16T01:16:15.782Z"
   },
   {
    "duration": 13269,
    "start_time": "2022-10-16T01:16:43.753Z"
   },
   {
    "duration": 13423,
    "start_time": "2022-10-16T01:17:07.905Z"
   },
   {
    "duration": 13147,
    "start_time": "2022-10-16T01:21:20.781Z"
   },
   {
    "duration": 40,
    "start_time": "2022-10-16T01:29:28.255Z"
   },
   {
    "duration": 4,
    "start_time": "2022-10-16T01:29:50.491Z"
   },
   {
    "duration": 186730,
    "start_time": "2022-10-16T01:29:57.427Z"
   },
   {
    "duration": 0,
    "start_time": "2022-10-16T01:33:04.159Z"
   },
   {
    "duration": 5,
    "start_time": "2022-10-16T01:33:07.466Z"
   },
   {
    "duration": 9,
    "start_time": "2022-10-16T01:33:10.798Z"
   },
   {
    "duration": 370,
    "start_time": "2022-10-16T01:33:35.615Z"
   },
   {
    "duration": 51437,
    "start_time": "2022-10-16T01:33:46.726Z"
   },
   {
    "duration": 187,
    "start_time": "2022-10-16T01:34:38.165Z"
   },
   {
    "duration": 514,
    "start_time": "2022-10-16T01:36:16.870Z"
   },
   {
    "duration": 51770,
    "start_time": "2022-10-16T01:37:15.302Z"
   },
   {
    "duration": 211,
    "start_time": "2022-10-16T01:38:07.074Z"
   },
   {
    "duration": 6,
    "start_time": "2022-10-16T01:41:48.353Z"
   },
   {
    "duration": 5,
    "start_time": "2022-10-16T01:42:13.090Z"
   },
   {
    "duration": 5,
    "start_time": "2022-10-16T01:42:50.738Z"
   },
   {
    "duration": 12,
    "start_time": "2022-10-16T01:43:33.197Z"
   },
   {
    "duration": 52322,
    "start_time": "2022-10-16T01:43:39.669Z"
   },
   {
    "duration": 156182,
    "start_time": "2022-10-16T01:45:35.482Z"
   },
   {
    "duration": 52349,
    "start_time": "2022-10-16T01:59:52.252Z"
   },
   {
    "duration": 157683,
    "start_time": "2022-10-16T02:01:06.881Z"
   },
   {
    "duration": 44,
    "start_time": "2022-10-16T02:04:19.489Z"
   },
   {
    "duration": 36,
    "start_time": "2022-10-16T02:06:09.433Z"
   },
   {
    "duration": 56820,
    "start_time": "2022-10-16T02:06:28.177Z"
   },
   {
    "duration": 40,
    "start_time": "2022-10-16T02:07:33.473Z"
   },
   {
    "duration": 134021,
    "start_time": "2022-10-16T02:07:42.553Z"
   },
   {
    "duration": 16,
    "start_time": "2022-10-16T02:10:28.994Z"
   },
   {
    "duration": 4,
    "start_time": "2022-10-16T02:11:12.656Z"
   },
   {
    "duration": 82,
    "start_time": "2022-10-16T02:11:14.241Z"
   },
   {
    "duration": 18,
    "start_time": "2022-10-16T02:11:15.477Z"
   },
   {
    "duration": 7,
    "start_time": "2022-10-16T02:11:16.597Z"
   },
   {
    "duration": 43,
    "start_time": "2022-10-16T02:20:55.369Z"
   },
   {
    "duration": 3,
    "start_time": "2022-10-16T02:20:59.993Z"
   },
   {
    "duration": 5,
    "start_time": "2022-10-16T02:26:38.121Z"
   },
   {
    "duration": 5,
    "start_time": "2022-10-16T02:28:27.360Z"
   },
   {
    "duration": 5,
    "start_time": "2022-10-16T02:32:09.957Z"
   },
   {
    "duration": 4,
    "start_time": "2022-10-16T02:32:10.372Z"
   },
   {
    "duration": 4,
    "start_time": "2022-10-16T02:32:14.796Z"
   },
   {
    "duration": 85,
    "start_time": "2022-10-16T02:32:16.089Z"
   },
   {
    "duration": 28,
    "start_time": "2022-10-16T02:32:16.896Z"
   },
   {
    "duration": 7,
    "start_time": "2022-10-16T02:32:17.776Z"
   },
   {
    "duration": 3,
    "start_time": "2022-10-16T02:32:19.965Z"
   },
   {
    "duration": 5,
    "start_time": "2022-10-16T02:32:20.541Z"
   },
   {
    "duration": 7,
    "start_time": "2022-10-16T02:32:21.044Z"
   },
   {
    "duration": 3,
    "start_time": "2022-10-16T02:32:21.865Z"
   },
   {
    "duration": 16,
    "start_time": "2022-10-16T02:33:06.685Z"
   },
   {
    "duration": 16,
    "start_time": "2022-10-16T02:34:01.853Z"
   },
   {
    "duration": 14,
    "start_time": "2022-10-16T02:34:12.917Z"
   },
   {
    "duration": 29,
    "start_time": "2022-10-16T02:35:42.041Z"
   },
   {
    "duration": 11,
    "start_time": "2022-10-16T02:35:48.457Z"
   },
   {
    "duration": 33,
    "start_time": "2022-10-16T02:36:26.616Z"
   },
   {
    "duration": 4,
    "start_time": "2022-10-16T02:36:52.317Z"
   },
   {
    "duration": 7,
    "start_time": "2022-10-16T02:36:52.793Z"
   },
   {
    "duration": 8,
    "start_time": "2022-10-16T02:36:53.181Z"
   },
   {
    "duration": 5,
    "start_time": "2022-10-16T02:36:53.605Z"
   },
   {
    "duration": 37,
    "start_time": "2022-10-16T02:36:54.461Z"
   },
   {
    "duration": 4,
    "start_time": "2022-10-16T02:37:48.893Z"
   },
   {
    "duration": 84,
    "start_time": "2022-10-16T02:37:52.346Z"
   },
   {
    "duration": 19,
    "start_time": "2022-10-16T02:37:53.487Z"
   },
   {
    "duration": 6,
    "start_time": "2022-10-16T02:37:54.949Z"
   },
   {
    "duration": 4,
    "start_time": "2022-10-16T02:37:57.289Z"
   },
   {
    "duration": 6,
    "start_time": "2022-10-16T02:37:57.802Z"
   },
   {
    "duration": 7,
    "start_time": "2022-10-16T02:37:58.357Z"
   },
   {
    "duration": 3,
    "start_time": "2022-10-16T02:37:59.157Z"
   },
   {
    "duration": 28,
    "start_time": "2022-10-16T02:38:00.356Z"
   },
   {
    "duration": 29,
    "start_time": "2022-10-16T02:39:44.938Z"
   },
   {
    "duration": 12,
    "start_time": "2022-10-16T02:39:55.865Z"
   },
   {
    "duration": 13,
    "start_time": "2022-10-16T02:40:04.469Z"
   },
   {
    "duration": 25,
    "start_time": "2022-10-16T02:40:11.101Z"
   },
   {
    "duration": 26,
    "start_time": "2022-10-16T02:41:15.965Z"
   },
   {
    "duration": 30,
    "start_time": "2022-10-16T02:41:19.609Z"
   },
   {
    "duration": 35,
    "start_time": "2022-10-16T02:41:49.885Z"
   },
   {
    "duration": 29,
    "start_time": "2022-10-16T02:42:10.113Z"
   },
   {
    "duration": 35,
    "start_time": "2022-10-16T02:42:57.937Z"
   },
   {
    "duration": 31,
    "start_time": "2022-10-16T02:43:46.285Z"
   },
   {
    "duration": 27,
    "start_time": "2022-10-16T02:43:49.921Z"
   },
   {
    "duration": 28,
    "start_time": "2022-10-16T02:44:01.841Z"
   },
   {
    "duration": 1271,
    "start_time": "2022-10-16T02:44:37.872Z"
   },
   {
    "duration": 89,
    "start_time": "2022-10-16T02:44:39.145Z"
   },
   {
    "duration": 22,
    "start_time": "2022-10-16T02:44:39.236Z"
   },
   {
    "duration": 10,
    "start_time": "2022-10-16T02:44:39.261Z"
   },
   {
    "duration": 5,
    "start_time": "2022-10-16T02:44:39.272Z"
   },
   {
    "duration": 8,
    "start_time": "2022-10-16T02:44:39.278Z"
   },
   {
    "duration": 6,
    "start_time": "2022-10-16T02:44:39.287Z"
   },
   {
    "duration": 9,
    "start_time": "2022-10-16T02:44:39.295Z"
   },
   {
    "duration": 40,
    "start_time": "2022-10-16T02:44:39.306Z"
   },
   {
    "duration": 4,
    "start_time": "2022-10-16T02:44:39.349Z"
   },
   {
    "duration": 93,
    "start_time": "2022-10-16T02:44:39.355Z"
   },
   {
    "duration": 7,
    "start_time": "2022-10-16T02:44:39.449Z"
   },
   {
    "duration": 20,
    "start_time": "2022-10-16T02:44:39.458Z"
   },
   {
    "duration": 52,
    "start_time": "2022-10-16T02:44:39.480Z"
   },
   {
    "duration": 41,
    "start_time": "2022-10-16T02:44:39.533Z"
   },
   {
    "duration": 0,
    "start_time": "2022-10-16T02:44:39.575Z"
   },
   {
    "duration": 4,
    "start_time": "2022-10-16T02:45:01.453Z"
   },
   {
    "duration": 85,
    "start_time": "2022-10-16T02:45:02.552Z"
   },
   {
    "duration": 19,
    "start_time": "2022-10-16T02:45:04.768Z"
   },
   {
    "duration": 6,
    "start_time": "2022-10-16T02:45:06.268Z"
   },
   {
    "duration": 3,
    "start_time": "2022-10-16T02:45:08.328Z"
   },
   {
    "duration": 6,
    "start_time": "2022-10-16T02:45:08.860Z"
   },
   {
    "duration": 5,
    "start_time": "2022-10-16T02:45:09.320Z"
   },
   {
    "duration": 4,
    "start_time": "2022-10-16T02:45:09.812Z"
   },
   {
    "duration": 119,
    "start_time": "2022-10-16T02:45:15.948Z"
   },
   {
    "duration": 3,
    "start_time": "2022-10-16T02:50:37.125Z"
   },
   {
    "duration": 82,
    "start_time": "2022-10-16T02:50:39.088Z"
   },
   {
    "duration": 18,
    "start_time": "2022-10-16T02:50:40.405Z"
   },
   {
    "duration": 19,
    "start_time": "2022-10-16T02:51:31.460Z"
   },
   {
    "duration": 6,
    "start_time": "2022-10-16T02:51:32.964Z"
   },
   {
    "duration": 4,
    "start_time": "2022-10-16T02:51:55.228Z"
   },
   {
    "duration": 46,
    "start_time": "2022-10-16T02:52:03.288Z"
   },
   {
    "duration": 4,
    "start_time": "2022-10-16T02:52:23.876Z"
   },
   {
    "duration": 43,
    "start_time": "2022-10-16T02:52:31.520Z"
   },
   {
    "duration": 50,
    "start_time": "2022-10-16T02:52:58.565Z"
   },
   {
    "duration": 4,
    "start_time": "2022-10-16T02:53:55.189Z"
   },
   {
    "duration": 4,
    "start_time": "2022-10-16T02:53:55.609Z"
   },
   {
    "duration": 5,
    "start_time": "2022-10-16T02:53:56.256Z"
   },
   {
    "duration": 3,
    "start_time": "2022-10-16T02:54:00.453Z"
   },
   {
    "duration": 55,
    "start_time": "2022-10-16T02:55:10.308Z"
   },
   {
    "duration": 20,
    "start_time": "2022-10-16T02:55:13.581Z"
   },
   {
    "duration": 4,
    "start_time": "2022-10-16T02:55:38.040Z"
   },
   {
    "duration": 5,
    "start_time": "2022-10-16T02:55:46.292Z"
   },
   {
    "duration": 5,
    "start_time": "2022-10-16T02:55:48.068Z"
   },
   {
    "duration": 162,
    "start_time": "2022-10-16T02:55:48.424Z"
   },
   {
    "duration": 4,
    "start_time": "2022-10-16T02:56:03.160Z"
   },
   {
    "duration": 5,
    "start_time": "2022-10-16T02:56:14.156Z"
   },
   {
    "duration": 4,
    "start_time": "2022-10-16T02:56:20.941Z"
   },
   {
    "duration": 3,
    "start_time": "2022-10-16T02:56:21.561Z"
   },
   {
    "duration": 171,
    "start_time": "2022-10-16T02:56:22.216Z"
   },
   {
    "duration": 4,
    "start_time": "2022-10-16T02:56:55.645Z"
   },
   {
    "duration": 5,
    "start_time": "2022-10-16T02:56:56.056Z"
   },
   {
    "duration": 5,
    "start_time": "2022-10-16T02:56:56.428Z"
   },
   {
    "duration": 3,
    "start_time": "2022-10-16T02:56:56.829Z"
   },
   {
    "duration": 286,
    "start_time": "2022-10-16T02:56:57.281Z"
   },
   {
    "duration": 45214,
    "start_time": "2022-10-16T02:57:54.708Z"
   },
   {
    "duration": 5,
    "start_time": "2022-10-16T03:01:41.056Z"
   },
   {
    "duration": 4,
    "start_time": "2022-10-16T03:02:53.588Z"
   },
   {
    "duration": 6,
    "start_time": "2022-10-16T03:02:55.920Z"
   },
   {
    "duration": 4,
    "start_time": "2022-10-16T03:02:56.305Z"
   },
   {
    "duration": 45943,
    "start_time": "2022-10-16T03:02:56.793Z"
   },
   {
    "duration": 5,
    "start_time": "2022-10-16T03:04:56.260Z"
   },
   {
    "duration": 6,
    "start_time": "2022-10-16T03:04:57.456Z"
   },
   {
    "duration": 45793,
    "start_time": "2022-10-16T03:04:57.960Z"
   },
   {
    "duration": 6,
    "start_time": "2022-10-16T03:06:32.600Z"
   },
   {
    "duration": 4,
    "start_time": "2022-10-16T03:06:32.888Z"
   },
   {
    "duration": 46108,
    "start_time": "2022-10-16T03:06:33.296Z"
   },
   {
    "duration": 5,
    "start_time": "2022-10-16T03:07:48.160Z"
   },
   {
    "duration": 4,
    "start_time": "2022-10-16T03:07:48.692Z"
   },
   {
    "duration": 45627,
    "start_time": "2022-10-16T03:07:49.580Z"
   },
   {
    "duration": 4,
    "start_time": "2022-10-16T03:08:58.452Z"
   },
   {
    "duration": 8,
    "start_time": "2022-10-16T03:09:01.561Z"
   },
   {
    "duration": 45465,
    "start_time": "2022-10-16T03:09:30.737Z"
   },
   {
    "duration": 4,
    "start_time": "2022-10-16T03:10:29.048Z"
   },
   {
    "duration": 5,
    "start_time": "2022-10-16T03:11:27.108Z"
   },
   {
    "duration": 3,
    "start_time": "2022-10-16T03:11:28.229Z"
   },
   {
    "duration": 0,
    "start_time": "2022-10-16T03:12:00.602Z"
   },
   {
    "duration": 45391,
    "start_time": "2022-10-16T03:12:01.377Z"
   },
   {
    "duration": 6,
    "start_time": "2022-10-16T03:15:33.465Z"
   },
   {
    "duration": 15,
    "start_time": "2022-10-16T03:15:39.893Z"
   },
   {
    "duration": 17,
    "start_time": "2022-10-16T03:15:45.872Z"
   },
   {
    "duration": 45517,
    "start_time": "2022-10-16T03:16:34.892Z"
   },
   {
    "duration": 15,
    "start_time": "2022-10-16T03:18:50.807Z"
   },
   {
    "duration": 45601,
    "start_time": "2022-10-16T03:18:50.823Z"
   },
   {
    "duration": 62517,
    "start_time": "2022-10-16T03:19:36.426Z"
   },
   {
    "duration": 5,
    "start_time": "2022-10-16T03:20:38.945Z"
   },
   {
    "duration": 45414,
    "start_time": "2022-10-16T03:20:38.952Z"
   },
   {
    "duration": 4,
    "start_time": "2022-10-16T03:21:24.367Z"
   },
   {
    "duration": 3,
    "start_time": "2022-10-16T03:22:06.089Z"
   },
   {
    "duration": 84,
    "start_time": "2022-10-16T03:22:07.292Z"
   },
   {
    "duration": 18,
    "start_time": "2022-10-16T03:22:08.457Z"
   },
   {
    "duration": 6,
    "start_time": "2022-10-16T03:22:09.248Z"
   },
   {
    "duration": 53,
    "start_time": "2022-10-16T03:22:11.124Z"
   },
   {
    "duration": 3,
    "start_time": "2022-10-16T03:22:13.069Z"
   },
   {
    "duration": 5,
    "start_time": "2022-10-16T03:22:14.084Z"
   },
   {
    "duration": 5,
    "start_time": "2022-10-16T03:22:14.845Z"
   },
   {
    "duration": 4,
    "start_time": "2022-10-16T03:22:15.504Z"
   },
   {
    "duration": 45819,
    "start_time": "2022-10-16T03:22:16.212Z"
   },
   {
    "duration": 11,
    "start_time": "2022-10-16T03:23:55.088Z"
   },
   {
    "duration": 4,
    "start_time": "2022-10-16T03:23:58.360Z"
   },
   {
    "duration": 45728,
    "start_time": "2022-10-16T03:23:59.004Z"
   },
   {
    "duration": 6,
    "start_time": "2022-10-16T03:26:05.905Z"
   },
   {
    "duration": 5,
    "start_time": "2022-10-16T03:26:52.388Z"
   },
   {
    "duration": 5,
    "start_time": "2022-10-16T03:26:53.093Z"
   },
   {
    "duration": 4,
    "start_time": "2022-10-16T03:26:53.633Z"
   },
   {
    "duration": 6,
    "start_time": "2022-10-16T03:26:58.368Z"
   },
   {
    "duration": 62692,
    "start_time": "2022-10-16T03:27:00.236Z"
   },
   {
    "duration": 17,
    "start_time": "2022-10-16T03:28:02.930Z"
   },
   {
    "duration": 28244,
    "start_time": "2022-10-16T03:29:38.936Z"
   },
   {
    "duration": 5,
    "start_time": "2022-10-16T03:35:55.308Z"
   },
   {
    "duration": 6,
    "start_time": "2022-10-16T03:38:19.112Z"
   },
   {
    "duration": 8,
    "start_time": "2022-10-16T03:39:24.468Z"
   },
   {
    "duration": 3,
    "start_time": "2022-10-16T03:39:56.500Z"
   },
   {
    "duration": 5,
    "start_time": "2022-10-16T03:40:52.400Z"
   },
   {
    "duration": 5,
    "start_time": "2022-10-16T03:40:53.216Z"
   },
   {
    "duration": 6,
    "start_time": "2022-10-16T03:40:56.424Z"
   },
   {
    "duration": 6,
    "start_time": "2022-10-16T03:42:52.568Z"
   },
   {
    "duration": 4,
    "start_time": "2022-10-16T03:45:01.140Z"
   },
   {
    "duration": 274,
    "start_time": "2022-10-16T03:45:36.624Z"
   },
   {
    "duration": 5,
    "start_time": "2022-10-16T03:46:46.832Z"
   },
   {
    "duration": 5,
    "start_time": "2022-10-16T03:46:47.336Z"
   },
   {
    "duration": 5,
    "start_time": "2022-10-16T03:46:53.800Z"
   },
   {
    "duration": 46456,
    "start_time": "2022-10-16T03:46:54.441Z"
   },
   {
    "duration": 0,
    "start_time": "2022-10-16T03:47:40.899Z"
   },
   {
    "duration": 4,
    "start_time": "2022-10-16T03:49:39.548Z"
   },
   {
    "duration": 46,
    "start_time": "2022-10-16T03:51:05.392Z"
   },
   {
    "duration": 10,
    "start_time": "2022-10-16T03:51:14.480Z"
   },
   {
    "duration": 6,
    "start_time": "2022-10-16T03:51:18.037Z"
   },
   {
    "duration": 6,
    "start_time": "2022-10-16T03:52:04.193Z"
   },
   {
    "duration": 4,
    "start_time": "2022-10-16T03:52:08.356Z"
   },
   {
    "duration": 5,
    "start_time": "2022-10-16T03:52:08.740Z"
   },
   {
    "duration": 5,
    "start_time": "2022-10-16T03:52:09.129Z"
   },
   {
    "duration": 5,
    "start_time": "2022-10-16T03:52:09.508Z"
   },
   {
    "duration": 279,
    "start_time": "2022-10-16T03:52:09.873Z"
   },
   {
    "duration": 6,
    "start_time": "2022-10-16T03:52:10.244Z"
   },
   {
    "duration": 28935,
    "start_time": "2022-10-16T03:54:55.029Z"
   },
   {
    "duration": 46012,
    "start_time": "2022-10-16T03:55:37.112Z"
   },
   {
    "duration": 4,
    "start_time": "2022-10-16T03:57:17.009Z"
   },
   {
    "duration": 46171,
    "start_time": "2022-10-16T03:57:18.252Z"
   },
   {
    "duration": 0,
    "start_time": "2022-10-16T03:58:04.425Z"
   },
   {
    "duration": 4,
    "start_time": "2022-10-16T03:58:46.800Z"
   },
   {
    "duration": 46593,
    "start_time": "2022-10-16T03:58:47.629Z"
   },
   {
    "duration": 7,
    "start_time": "2022-10-16T03:59:34.224Z"
   },
   {
    "duration": 4,
    "start_time": "2022-10-16T04:00:12.120Z"
   },
   {
    "duration": 46441,
    "start_time": "2022-10-16T04:02:15.888Z"
   },
   {
    "duration": 18,
    "start_time": "2022-10-16T04:03:02.332Z"
   },
   {
    "duration": 3,
    "start_time": "2022-10-16T04:04:21.340Z"
   },
   {
    "duration": 4,
    "start_time": "2022-10-16T04:04:23.640Z"
   },
   {
    "duration": 5,
    "start_time": "2022-10-16T04:04:24.000Z"
   },
   {
    "duration": 5,
    "start_time": "2022-10-16T04:04:24.396Z"
   },
   {
    "duration": 5,
    "start_time": "2022-10-16T04:04:24.800Z"
   },
   {
    "duration": 45851,
    "start_time": "2022-10-16T04:04:25.181Z"
   },
   {
    "duration": 8,
    "start_time": "2022-10-16T04:05:11.033Z"
   },
   {
    "duration": 4,
    "start_time": "2022-10-16T04:06:21.788Z"
   },
   {
    "duration": 45970,
    "start_time": "2022-10-16T04:06:25.465Z"
   },
   {
    "duration": 0,
    "start_time": "2022-10-16T04:07:11.437Z"
   },
   {
    "duration": 5,
    "start_time": "2022-10-16T04:07:40.844Z"
   },
   {
    "duration": 46144,
    "start_time": "2022-10-16T04:07:41.697Z"
   },
   {
    "duration": 0,
    "start_time": "2022-10-16T04:08:27.842Z"
   },
   {
    "duration": 5,
    "start_time": "2022-10-16T04:09:05.488Z"
   },
   {
    "duration": 46105,
    "start_time": "2022-10-16T04:09:06.793Z"
   },
   {
    "duration": 8,
    "start_time": "2022-10-16T04:09:52.900Z"
   },
   {
    "duration": 5,
    "start_time": "2022-10-16T04:10:17.397Z"
   },
   {
    "duration": 17,
    "start_time": "2022-10-16T04:10:25.512Z"
   },
   {
    "duration": 16,
    "start_time": "2022-10-16T04:10:30.909Z"
   },
   {
    "duration": 17,
    "start_time": "2022-10-16T04:10:41.784Z"
   },
   {
    "duration": 62677,
    "start_time": "2022-10-16T04:11:46.832Z"
   },
   {
    "duration": 28313,
    "start_time": "2022-10-16T04:13:08.353Z"
   },
   {
    "duration": 46610,
    "start_time": "2022-10-16T04:14:24.620Z"
   },
   {
    "duration": 14,
    "start_time": "2022-10-16T04:15:11.232Z"
   },
   {
    "duration": 15,
    "start_time": "2022-10-16T04:18:06.208Z"
   },
   {
    "duration": 17,
    "start_time": "2022-10-16T04:18:12.272Z"
   },
   {
    "duration": 15,
    "start_time": "2022-10-16T04:18:26.880Z"
   },
   {
    "duration": 5,
    "start_time": "2022-10-16T04:18:44.428Z"
   },
   {
    "duration": 15,
    "start_time": "2022-10-16T04:18:50.477Z"
   },
   {
    "duration": 61,
    "start_time": "2022-10-16T04:19:51.784Z"
   },
   {
    "duration": 5,
    "start_time": "2022-10-16T04:19:54.948Z"
   },
   {
    "duration": 15,
    "start_time": "2022-10-16T04:20:03.608Z"
   },
   {
    "duration": 10,
    "start_time": "2022-10-16T04:21:29.520Z"
   },
   {
    "duration": 9,
    "start_time": "2022-10-16T04:21:35.569Z"
   },
   {
    "duration": 11,
    "start_time": "2022-10-16T04:21:43.908Z"
   },
   {
    "duration": 3,
    "start_time": "2022-10-16T04:21:57.801Z"
   },
   {
    "duration": 4,
    "start_time": "2022-10-16T04:22:04.032Z"
   },
   {
    "duration": 13,
    "start_time": "2022-10-16T04:22:08.084Z"
   },
   {
    "duration": 19,
    "start_time": "2022-10-16T04:22:43.080Z"
   },
   {
    "duration": 10,
    "start_time": "2022-10-16T04:22:49.983Z"
   },
   {
    "duration": 13,
    "start_time": "2022-10-16T04:22:57.680Z"
   },
   {
    "duration": 12,
    "start_time": "2022-10-16T04:23:26.612Z"
   },
   {
    "duration": 9,
    "start_time": "2022-10-16T04:23:38.180Z"
   },
   {
    "duration": 12,
    "start_time": "2022-10-16T04:23:42.272Z"
   },
   {
    "duration": 13,
    "start_time": "2022-10-16T04:24:26.504Z"
   },
   {
    "duration": 9,
    "start_time": "2022-10-16T04:24:33.104Z"
   },
   {
    "duration": 9,
    "start_time": "2022-10-16T04:24:44.700Z"
   },
   {
    "duration": 9,
    "start_time": "2022-10-16T04:25:38.312Z"
   },
   {
    "duration": 12,
    "start_time": "2022-10-16T04:25:45.941Z"
   },
   {
    "duration": 10,
    "start_time": "2022-10-16T04:25:54.856Z"
   },
   {
    "duration": 6,
    "start_time": "2022-10-16T04:26:01.400Z"
   },
   {
    "duration": 6,
    "start_time": "2022-10-16T04:26:08.224Z"
   },
   {
    "duration": 6,
    "start_time": "2022-10-16T04:26:14.500Z"
   },
   {
    "duration": 10,
    "start_time": "2022-10-16T04:26:22.928Z"
   },
   {
    "duration": 9,
    "start_time": "2022-10-16T04:27:42.272Z"
   },
   {
    "duration": 10,
    "start_time": "2022-10-16T04:27:51.348Z"
   },
   {
    "duration": 12,
    "start_time": "2022-10-16T04:27:58.857Z"
   },
   {
    "duration": 16,
    "start_time": "2022-10-16T04:28:20.168Z"
   },
   {
    "duration": 1273,
    "start_time": "2022-10-16T04:29:14.760Z"
   },
   {
    "duration": 87,
    "start_time": "2022-10-16T04:29:16.035Z"
   },
   {
    "duration": 17,
    "start_time": "2022-10-16T04:29:16.123Z"
   },
   {
    "duration": 5,
    "start_time": "2022-10-16T04:29:16.142Z"
   },
   {
    "duration": 45,
    "start_time": "2022-10-16T04:29:16.148Z"
   },
   {
    "duration": 28,
    "start_time": "2022-10-16T04:29:16.194Z"
   },
   {
    "duration": 3,
    "start_time": "2022-10-16T04:29:16.224Z"
   },
   {
    "duration": 6,
    "start_time": "2022-10-16T04:29:16.228Z"
   },
   {
    "duration": 5,
    "start_time": "2022-10-16T04:29:16.235Z"
   },
   {
    "duration": 6,
    "start_time": "2022-10-16T04:29:16.242Z"
   },
   {
    "duration": 45461,
    "start_time": "2022-10-16T04:29:16.250Z"
   },
   {
    "duration": 9,
    "start_time": "2022-10-16T04:30:01.722Z"
   },
   {
    "duration": 34,
    "start_time": "2022-10-16T04:30:01.733Z"
   },
   {
    "duration": 36,
    "start_time": "2022-10-16T04:30:01.769Z"
   },
   {
    "duration": 30,
    "start_time": "2022-10-16T04:30:01.806Z"
   },
   {
    "duration": 62562,
    "start_time": "2022-10-16T04:30:01.837Z"
   },
   {
    "duration": 28399,
    "start_time": "2022-10-16T04:31:04.401Z"
   },
   {
    "duration": 46348,
    "start_time": "2022-10-16T04:31:32.801Z"
   },
   {
    "duration": 112,
    "start_time": "2022-10-16T04:32:19.151Z"
   },
   {
    "duration": 12,
    "start_time": "2022-10-16T04:32:34.893Z"
   },
   {
    "duration": 10,
    "start_time": "2022-10-16T04:32:39.009Z"
   },
   {
    "duration": 14,
    "start_time": "2022-10-16T04:32:58.188Z"
   },
   {
    "duration": 6,
    "start_time": "2022-10-16T04:33:37.052Z"
   },
   {
    "duration": 13,
    "start_time": "2022-10-16T04:33:44.520Z"
   },
   {
    "duration": 10,
    "start_time": "2022-10-16T04:34:17.220Z"
   },
   {
    "duration": 9,
    "start_time": "2022-10-16T04:34:52.989Z"
   },
   {
    "duration": 10,
    "start_time": "2022-10-16T04:35:15.872Z"
   },
   {
    "duration": 10,
    "start_time": "2022-10-16T04:35:40.412Z"
   },
   {
    "duration": 13,
    "start_time": "2022-10-16T04:35:45.732Z"
   },
   {
    "duration": 15,
    "start_time": "2022-10-16T04:36:07.505Z"
   },
   {
    "duration": 694,
    "start_time": "2022-10-16T04:37:15.105Z"
   },
   {
    "duration": 675,
    "start_time": "2022-10-16T04:37:22.569Z"
   },
   {
    "duration": 98,
    "start_time": "2022-10-16T04:37:25.496Z"
   },
   {
    "duration": 716,
    "start_time": "2022-10-16T04:37:47.709Z"
   },
   {
    "duration": 651,
    "start_time": "2022-10-16T04:37:58.824Z"
   },
   {
    "duration": 10,
    "start_time": "2022-10-16T04:38:09.434Z"
   },
   {
    "duration": 732,
    "start_time": "2022-10-16T04:38:12.745Z"
   },
   {
    "duration": 7,
    "start_time": "2022-10-16T04:38:25.669Z"
   },
   {
    "duration": 699,
    "start_time": "2022-10-16T04:38:33.637Z"
   },
   {
    "duration": 644,
    "start_time": "2022-10-16T04:38:36.960Z"
   },
   {
    "duration": 658,
    "start_time": "2022-10-16T04:39:15.352Z"
   },
   {
    "duration": 11,
    "start_time": "2022-10-16T04:40:05.021Z"
   },
   {
    "duration": 824,
    "start_time": "2022-10-16T04:40:26.365Z"
   },
   {
    "duration": 816,
    "start_time": "2022-10-16T04:40:46.536Z"
   },
   {
    "duration": 14,
    "start_time": "2022-10-16T04:42:27.980Z"
   },
   {
    "duration": 18,
    "start_time": "2022-10-16T04:43:37.013Z"
   },
   {
    "duration": 14,
    "start_time": "2022-10-16T04:43:47.472Z"
   },
   {
    "duration": 10,
    "start_time": "2022-10-16T04:47:38.569Z"
   },
   {
    "duration": 15,
    "start_time": "2022-10-16T04:47:50.505Z"
   },
   {
    "duration": 16,
    "start_time": "2022-10-16T04:48:10.840Z"
   },
   {
    "duration": 13,
    "start_time": "2022-10-16T04:48:27.136Z"
   },
   {
    "duration": 12,
    "start_time": "2022-10-16T04:53:45.636Z"
   },
   {
    "duration": 3,
    "start_time": "2022-10-16T04:54:12.440Z"
   },
   {
    "duration": 12,
    "start_time": "2022-10-16T04:54:17.332Z"
   },
   {
    "duration": 9,
    "start_time": "2022-10-16T04:54:23.748Z"
   },
   {
    "duration": 12,
    "start_time": "2022-10-16T04:54:55.880Z"
   },
   {
    "duration": 4,
    "start_time": "2022-10-16T04:55:03.672Z"
   },
   {
    "duration": 98,
    "start_time": "2022-10-16T04:55:03.678Z"
   },
   {
    "duration": 17,
    "start_time": "2022-10-16T04:55:03.778Z"
   },
   {
    "duration": 6,
    "start_time": "2022-10-16T04:55:03.796Z"
   },
   {
    "duration": 64,
    "start_time": "2022-10-16T04:55:03.804Z"
   },
   {
    "duration": 3,
    "start_time": "2022-10-16T04:55:03.869Z"
   },
   {
    "duration": 6,
    "start_time": "2022-10-16T04:55:03.873Z"
   },
   {
    "duration": 5,
    "start_time": "2022-10-16T04:55:03.881Z"
   },
   {
    "duration": 12,
    "start_time": "2022-10-16T04:55:03.888Z"
   },
   {
    "duration": 5,
    "start_time": "2022-10-16T04:55:03.923Z"
   },
   {
    "duration": 45795,
    "start_time": "2022-10-16T04:55:03.930Z"
   },
   {
    "duration": 8,
    "start_time": "2022-10-16T04:55:49.726Z"
   },
   {
    "duration": 8,
    "start_time": "2022-10-16T04:55:49.735Z"
   },
   {
    "duration": 16,
    "start_time": "2022-10-16T04:55:49.744Z"
   },
   {
    "duration": 16,
    "start_time": "2022-10-16T04:55:49.762Z"
   },
   {
    "duration": 63445,
    "start_time": "2022-10-16T04:55:49.780Z"
   },
   {
    "duration": 28620,
    "start_time": "2022-10-16T04:56:53.226Z"
   },
   {
    "duration": 46860,
    "start_time": "2022-10-16T04:57:21.847Z"
   },
   {
    "duration": 23,
    "start_time": "2022-10-16T04:58:08.708Z"
   },
   {
    "duration": 12,
    "start_time": "2022-10-16T05:00:13.605Z"
   },
   {
    "duration": 12,
    "start_time": "2022-10-16T05:00:21.016Z"
   },
   {
    "duration": 13,
    "start_time": "2022-10-16T05:00:28.376Z"
   },
   {
    "duration": 4,
    "start_time": "2022-10-16T05:00:54.676Z"
   },
   {
    "duration": 4,
    "start_time": "2022-10-16T05:02:16.101Z"
   },
   {
    "duration": 4,
    "start_time": "2022-10-16T05:02:21.252Z"
   },
   {
    "duration": 11,
    "start_time": "2022-10-16T05:02:37.409Z"
   },
   {
    "duration": 11,
    "start_time": "2022-10-16T05:06:09.521Z"
   },
   {
    "duration": 3,
    "start_time": "2022-10-16T05:08:39.776Z"
   },
   {
    "duration": 94,
    "start_time": "2022-10-16T05:08:39.781Z"
   },
   {
    "duration": 24,
    "start_time": "2022-10-16T05:08:39.877Z"
   },
   {
    "duration": 22,
    "start_time": "2022-10-16T05:08:39.903Z"
   },
   {
    "duration": 47,
    "start_time": "2022-10-16T05:08:39.927Z"
   },
   {
    "duration": 3,
    "start_time": "2022-10-16T05:08:39.976Z"
   },
   {
    "duration": 6,
    "start_time": "2022-10-16T05:08:39.981Z"
   },
   {
    "duration": 5,
    "start_time": "2022-10-16T05:08:39.989Z"
   },
   {
    "duration": 28,
    "start_time": "2022-10-16T05:08:39.996Z"
   },
   {
    "duration": 11,
    "start_time": "2022-10-16T05:08:40.025Z"
   },
   {
    "duration": 46388,
    "start_time": "2022-10-16T05:08:40.038Z"
   },
   {
    "duration": 9,
    "start_time": "2022-10-16T05:09:26.427Z"
   },
   {
    "duration": 9,
    "start_time": "2022-10-16T05:09:26.437Z"
   },
   {
    "duration": 15,
    "start_time": "2022-10-16T05:09:26.448Z"
   },
   {
    "duration": 15,
    "start_time": "2022-10-16T05:09:26.464Z"
   },
   {
    "duration": 63242,
    "start_time": "2022-10-16T05:09:26.481Z"
   },
   {
    "duration": 28512,
    "start_time": "2022-10-16T05:10:29.724Z"
   },
   {
    "duration": 46967,
    "start_time": "2022-10-16T05:10:58.238Z"
   },
   {
    "duration": 0,
    "start_time": "2022-10-16T05:11:46.126Z"
   },
   {
    "duration": 15,
    "start_time": "2022-10-16T05:12:00.768Z"
   },
   {
    "duration": 15,
    "start_time": "2022-10-16T05:14:56.620Z"
   },
   {
    "duration": 4,
    "start_time": "2022-10-16T05:15:44.133Z"
   },
   {
    "duration": 9,
    "start_time": "2022-10-16T05:19:13.660Z"
   },
   {
    "duration": 844,
    "start_time": "2022-10-16T05:21:03.804Z"
   },
   {
    "duration": 709,
    "start_time": "2022-10-16T05:21:36.720Z"
   },
   {
    "duration": 1266,
    "start_time": "2022-10-16T05:21:49.619Z"
   },
   {
    "duration": 89,
    "start_time": "2022-10-16T05:21:50.886Z"
   },
   {
    "duration": 18,
    "start_time": "2022-10-16T05:21:50.977Z"
   },
   {
    "duration": 21,
    "start_time": "2022-10-16T05:21:50.997Z"
   },
   {
    "duration": 55,
    "start_time": "2022-10-16T05:21:51.021Z"
   },
   {
    "duration": 4,
    "start_time": "2022-10-16T05:21:51.077Z"
   },
   {
    "duration": 23,
    "start_time": "2022-10-16T05:21:51.082Z"
   },
   {
    "duration": 18,
    "start_time": "2022-10-16T05:21:51.106Z"
   },
   {
    "duration": 19,
    "start_time": "2022-10-16T05:21:51.126Z"
   },
   {
    "duration": 18,
    "start_time": "2022-10-16T05:21:51.148Z"
   },
   {
    "duration": 46659,
    "start_time": "2022-10-16T05:21:51.167Z"
   },
   {
    "duration": 8,
    "start_time": "2022-10-16T05:22:37.828Z"
   },
   {
    "duration": 17,
    "start_time": "2022-10-16T05:22:37.837Z"
   },
   {
    "duration": 19,
    "start_time": "2022-10-16T05:22:37.856Z"
   },
   {
    "duration": 24,
    "start_time": "2022-10-16T05:22:37.877Z"
   },
   {
    "duration": 63294,
    "start_time": "2022-10-16T05:22:37.903Z"
   },
   {
    "duration": 28526,
    "start_time": "2022-10-16T05:23:41.199Z"
   },
   {
    "duration": 46383,
    "start_time": "2022-10-16T05:24:09.726Z"
   },
   {
    "duration": 25,
    "start_time": "2022-10-16T05:24:56.110Z"
   },
   {
    "duration": 4,
    "start_time": "2022-10-16T05:24:56.136Z"
   },
   {
    "duration": 249,
    "start_time": "2022-10-16T05:24:56.142Z"
   },
   {
    "duration": 145,
    "start_time": "2022-10-16T05:25:26.091Z"
   },
   {
    "duration": 148,
    "start_time": "2022-10-16T05:25:34.052Z"
   },
   {
    "duration": 4,
    "start_time": "2022-10-16T05:26:47.112Z"
   },
   {
    "duration": 157,
    "start_time": "2022-10-16T05:28:15.303Z"
   },
   {
    "duration": 145,
    "start_time": "2022-10-16T05:28:50.476Z"
   },
   {
    "duration": 158,
    "start_time": "2022-10-16T05:30:31.527Z"
   },
   {
    "duration": 150,
    "start_time": "2022-10-16T05:30:49.103Z"
   },
   {
    "duration": 165,
    "start_time": "2022-10-16T05:31:45.823Z"
   },
   {
    "duration": 153,
    "start_time": "2022-10-16T05:31:51.928Z"
   },
   {
    "duration": 151,
    "start_time": "2022-10-16T05:31:58.075Z"
   },
   {
    "duration": 15,
    "start_time": "2022-10-16T05:33:53.951Z"
   },
   {
    "duration": 6,
    "start_time": "2022-10-16T05:34:26.399Z"
   },
   {
    "duration": 5,
    "start_time": "2022-10-16T05:34:31.139Z"
   },
   {
    "duration": 154,
    "start_time": "2022-10-16T05:43:46.940Z"
   },
   {
    "duration": 152,
    "start_time": "2022-10-16T05:48:49.847Z"
   },
   {
    "duration": 8,
    "start_time": "2022-10-16T05:52:41.199Z"
   },
   {
    "duration": 20,
    "start_time": "2022-10-16T05:53:26.071Z"
   },
   {
    "duration": 21,
    "start_time": "2022-10-16T05:53:55.887Z"
   },
   {
    "duration": 4,
    "start_time": "2022-10-16T05:54:06.459Z"
   },
   {
    "duration": 5,
    "start_time": "2022-10-16T05:54:18.976Z"
   },
   {
    "duration": 155,
    "start_time": "2022-10-16T05:54:19.567Z"
   },
   {
    "duration": 5,
    "start_time": "2022-10-16T05:54:28.575Z"
   },
   {
    "duration": 9,
    "start_time": "2022-10-16T05:54:53.762Z"
   },
   {
    "duration": 5,
    "start_time": "2022-10-16T05:54:58.783Z"
   },
   {
    "duration": 5,
    "start_time": "2022-10-16T05:55:47.519Z"
   },
   {
    "duration": 11,
    "start_time": "2022-10-16T05:55:55.371Z"
   },
   {
    "duration": 11,
    "start_time": "2022-10-16T05:56:08.687Z"
   },
   {
    "duration": 11,
    "start_time": "2022-10-16T05:56:11.575Z"
   },
   {
    "duration": 5,
    "start_time": "2022-10-16T05:56:19.198Z"
   },
   {
    "duration": 104,
    "start_time": "2022-10-16T05:56:23.846Z"
   },
   {
    "duration": 101,
    "start_time": "2022-10-16T05:57:09.179Z"
   },
   {
    "duration": 5,
    "start_time": "2022-10-16T05:58:35.283Z"
   },
   {
    "duration": 111,
    "start_time": "2022-10-16T06:26:06.695Z"
   },
   {
    "duration": 107,
    "start_time": "2022-10-16T06:26:22.979Z"
   },
   {
    "duration": 4,
    "start_time": "2022-10-16T06:26:39.899Z"
   },
   {
    "duration": 96,
    "start_time": "2022-10-16T06:26:41.038Z"
   },
   {
    "duration": 20,
    "start_time": "2022-10-16T06:26:42.623Z"
   },
   {
    "duration": 9,
    "start_time": "2022-10-16T06:26:43.703Z"
   },
   {
    "duration": 47,
    "start_time": "2022-10-16T06:26:46.763Z"
   },
   {
    "duration": 3,
    "start_time": "2022-10-16T06:26:50.219Z"
   },
   {
    "duration": 3,
    "start_time": "2022-10-16T06:26:53.011Z"
   },
   {
    "duration": 5,
    "start_time": "2022-10-16T06:26:55.040Z"
   },
   {
    "duration": 6,
    "start_time": "2022-10-16T06:27:05.834Z"
   },
   {
    "duration": 6,
    "start_time": "2022-10-16T06:27:06.551Z"
   },
   {
    "duration": 984320,
    "start_time": "2022-10-16T06:27:07.231Z"
   },
   {
    "duration": 0,
    "start_time": "2022-10-16T06:43:31.553Z"
   },
   {
    "duration": 0,
    "start_time": "2022-10-16T06:43:31.554Z"
   },
   {
    "duration": 0,
    "start_time": "2022-10-16T06:43:31.555Z"
   },
   {
    "duration": 0,
    "start_time": "2022-10-16T06:43:31.556Z"
   },
   {
    "duration": 0,
    "start_time": "2022-10-16T06:43:31.557Z"
   },
   {
    "duration": 0,
    "start_time": "2022-10-16T06:43:31.558Z"
   },
   {
    "duration": 0,
    "start_time": "2022-10-16T06:43:31.559Z"
   },
   {
    "duration": 0,
    "start_time": "2022-10-16T06:43:31.559Z"
   },
   {
    "duration": 0,
    "start_time": "2022-10-16T06:43:31.560Z"
   },
   {
    "duration": 0,
    "start_time": "2022-10-16T06:43:31.562Z"
   },
   {
    "duration": 0,
    "start_time": "2022-10-16T06:43:31.564Z"
   },
   {
    "duration": 5,
    "start_time": "2022-10-16T06:44:00.568Z"
   },
   {
    "duration": 4,
    "start_time": "2022-10-16T06:44:02.080Z"
   },
   {
    "duration": 91112,
    "start_time": "2022-10-16T06:44:02.623Z"
   },
   {
    "duration": 7,
    "start_time": "2022-10-16T06:45:40.820Z"
   },
   {
    "duration": 4,
    "start_time": "2022-10-16T06:45:41.288Z"
   },
   {
    "duration": 184546,
    "start_time": "2022-10-16T06:45:41.780Z"
   },
   {
    "duration": 8,
    "start_time": "2022-10-16T06:48:56.296Z"
   },
   {
    "duration": 8,
    "start_time": "2022-10-16T06:48:57.627Z"
   },
   {
    "duration": 20,
    "start_time": "2022-10-16T06:48:58.156Z"
   },
   {
    "duration": 22,
    "start_time": "2022-10-16T06:48:58.312Z"
   },
   {
    "duration": 253556,
    "start_time": "2022-10-16T06:48:58.472Z"
   },
   {
    "duration": 113150,
    "start_time": "2022-10-16T06:53:12.030Z"
   },
   {
    "duration": 187449,
    "start_time": "2022-10-16T06:55:05.181Z"
   },
   {
    "duration": 15,
    "start_time": "2022-10-16T06:58:12.633Z"
   },
   {
    "duration": 3,
    "start_time": "2022-10-16T06:58:12.649Z"
   },
   {
    "duration": 118,
    "start_time": "2022-10-16T06:58:12.654Z"
   },
   {
    "duration": 6,
    "start_time": "2022-10-16T06:58:12.773Z"
   },
   {
    "duration": 6,
    "start_time": "2022-10-16T06:58:12.780Z"
   },
   {
    "duration": 8,
    "start_time": "2022-10-16T06:58:12.787Z"
   },
   {
    "duration": 8,
    "start_time": "2022-10-16T07:05:54.040Z"
   },
   {
    "duration": 9,
    "start_time": "2022-10-16T07:05:58.387Z"
   },
   {
    "duration": 15,
    "start_time": "2022-10-16T07:07:28.772Z"
   },
   {
    "duration": 17,
    "start_time": "2022-10-16T07:18:04.236Z"
   },
   {
    "duration": 4,
    "start_time": "2022-10-16T07:19:01.880Z"
   },
   {
    "duration": 4,
    "start_time": "2022-10-16T07:19:07.624Z"
   },
   {
    "duration": 5,
    "start_time": "2022-10-16T07:19:22.348Z"
   },
   {
    "duration": 6,
    "start_time": "2022-10-16T07:19:29.812Z"
   },
   {
    "duration": 10,
    "start_time": "2022-10-16T07:19:57.700Z"
   },
   {
    "duration": 4,
    "start_time": "2022-10-16T07:20:52.116Z"
   },
   {
    "duration": 157,
    "start_time": "2022-10-16T07:20:54.444Z"
   },
   {
    "duration": 18,
    "start_time": "2022-10-16T07:20:56.648Z"
   },
   {
    "duration": 6,
    "start_time": "2022-10-16T07:20:58.116Z"
   },
   {
    "duration": 47,
    "start_time": "2022-10-16T07:21:01.828Z"
   },
   {
    "duration": 4,
    "start_time": "2022-10-16T07:21:04.960Z"
   },
   {
    "duration": 4,
    "start_time": "2022-10-16T07:21:07.053Z"
   },
   {
    "duration": 5,
    "start_time": "2022-10-16T07:21:07.984Z"
   },
   {
    "duration": 5,
    "start_time": "2022-10-16T07:21:08.744Z"
   },
   {
    "duration": 5,
    "start_time": "2022-10-16T07:21:09.416Z"
   },
   {
    "duration": 169,
    "start_time": "2022-10-16T07:21:10.112Z"
   },
   {
    "duration": 6,
    "start_time": "2022-10-16T07:21:39.811Z"
   },
   {
    "duration": 5,
    "start_time": "2022-10-16T07:21:40.256Z"
   },
   {
    "duration": 4,
    "start_time": "2022-10-16T07:21:40.628Z"
   },
   {
    "duration": 0,
    "start_time": "2022-10-16T07:23:39.729Z"
   },
   {
    "duration": 0,
    "start_time": "2022-10-16T07:23:39.730Z"
   },
   {
    "duration": 0,
    "start_time": "2022-10-16T07:23:39.732Z"
   },
   {
    "duration": 0,
    "start_time": "2022-10-16T07:23:39.733Z"
   },
   {
    "duration": 6030,
    "start_time": "2022-10-16T07:23:40.396Z"
   },
   {
    "duration": 4,
    "start_time": "2022-10-16T07:23:51.200Z"
   },
   {
    "duration": 85,
    "start_time": "2022-10-16T07:23:52.356Z"
   },
   {
    "duration": 17,
    "start_time": "2022-10-16T07:23:53.412Z"
   },
   {
    "duration": 6,
    "start_time": "2022-10-16T07:23:54.116Z"
   },
   {
    "duration": 44,
    "start_time": "2022-10-16T07:23:55.555Z"
   },
   {
    "duration": 3,
    "start_time": "2022-10-16T07:23:57.144Z"
   },
   {
    "duration": 3,
    "start_time": "2022-10-16T07:23:58.348Z"
   },
   {
    "duration": 5,
    "start_time": "2022-10-16T07:23:58.972Z"
   },
   {
    "duration": 8,
    "start_time": "2022-10-16T07:23:59.944Z"
   },
   {
    "duration": 6,
    "start_time": "2022-10-16T07:24:00.753Z"
   },
   {
    "duration": 17232,
    "start_time": "2022-10-16T07:24:01.397Z"
   },
   {
    "duration": 5,
    "start_time": "2022-10-16T07:24:27.764Z"
   },
   {
    "duration": 7,
    "start_time": "2022-10-16T07:24:28.116Z"
   },
   {
    "duration": 6,
    "start_time": "2022-10-16T07:24:28.912Z"
   },
   {
    "duration": 188273,
    "start_time": "2022-10-16T07:24:29.556Z"
   },
   {
    "duration": 8,
    "start_time": "2022-10-16T07:28:05.440Z"
   },
   {
    "duration": 8,
    "start_time": "2022-10-16T07:28:15.108Z"
   },
   {
    "duration": 20,
    "start_time": "2022-10-16T07:28:18.008Z"
   },
   {
    "duration": 26,
    "start_time": "2022-10-16T07:28:19.512Z"
   },
   {
    "duration": 36646,
    "start_time": "2022-10-16T07:28:22.893Z"
   },
   {
    "duration": 46,
    "start_time": "2022-10-16T07:29:45.356Z"
   },
   {
    "duration": 3,
    "start_time": "2022-10-16T07:29:51.132Z"
   },
   {
    "duration": 4,
    "start_time": "2022-10-16T07:29:51.976Z"
   },
   {
    "duration": 7,
    "start_time": "2022-10-16T07:29:53.112Z"
   },
   {
    "duration": 6,
    "start_time": "2022-10-16T07:29:54.028Z"
   },
   {
    "duration": 5,
    "start_time": "2022-10-16T07:29:55.308Z"
   },
   {
    "duration": 251472,
    "start_time": "2022-10-16T07:31:27.571Z"
   },
   {
    "duration": 7637,
    "start_time": "2022-10-16T07:36:21.380Z"
   },
   {
    "duration": 118230,
    "start_time": "2022-10-16T07:36:39.080Z"
   },
   {
    "duration": 187042,
    "start_time": "2022-10-16T07:38:37.311Z"
   },
   {
    "duration": 858,
    "start_time": "2022-10-16T07:41:44.354Z"
   },
   {
    "duration": 13,
    "start_time": "2022-10-16T07:42:08.616Z"
   },
   {
    "duration": 12,
    "start_time": "2022-10-16T07:42:19.707Z"
   },
   {
    "duration": 13,
    "start_time": "2022-10-16T07:42:55.739Z"
   },
   {
    "duration": 43,
    "start_time": "2022-10-16T07:43:31.583Z"
   },
   {
    "duration": 55,
    "start_time": "2022-10-16T07:43:34.967Z"
   },
   {
    "duration": 12,
    "start_time": "2022-10-16T07:43:40.372Z"
   },
   {
    "duration": 14,
    "start_time": "2022-10-16T07:44:57.736Z"
   },
   {
    "duration": 16,
    "start_time": "2022-10-16T07:45:07.075Z"
   },
   {
    "duration": 15,
    "start_time": "2022-10-16T07:45:27.964Z"
   },
   {
    "duration": 15,
    "start_time": "2022-10-16T07:45:35.387Z"
   },
   {
    "duration": 17,
    "start_time": "2022-10-16T07:45:47.939Z"
   },
   {
    "duration": 1282,
    "start_time": "2022-10-16T07:51:34.027Z"
   },
   {
    "duration": 91,
    "start_time": "2022-10-16T07:51:35.311Z"
   },
   {
    "duration": 23,
    "start_time": "2022-10-16T07:51:35.404Z"
   },
   {
    "duration": 5,
    "start_time": "2022-10-16T07:51:35.429Z"
   },
   {
    "duration": 47,
    "start_time": "2022-10-16T07:51:35.436Z"
   },
   {
    "duration": 3,
    "start_time": "2022-10-16T07:51:35.485Z"
   },
   {
    "duration": 8,
    "start_time": "2022-10-16T07:51:35.489Z"
   },
   {
    "duration": 25,
    "start_time": "2022-10-16T07:51:35.498Z"
   },
   {
    "duration": 10,
    "start_time": "2022-10-16T07:51:35.525Z"
   },
   {
    "duration": 8,
    "start_time": "2022-10-16T07:51:35.536Z"
   },
   {
    "duration": 184366,
    "start_time": "2022-10-16T07:51:35.545Z"
   },
   {
    "duration": 7,
    "start_time": "2022-10-16T07:54:39.922Z"
   },
   {
    "duration": 18,
    "start_time": "2022-10-16T07:54:39.931Z"
   },
   {
    "duration": 35,
    "start_time": "2022-10-16T07:54:39.951Z"
   },
   {
    "duration": 45,
    "start_time": "2022-10-16T07:54:39.988Z"
   },
   {
    "duration": 248173,
    "start_time": "2022-10-16T07:54:40.034Z"
   },
   {
    "duration": 118020,
    "start_time": "2022-10-16T07:58:48.208Z"
   },
   {
    "duration": 191595,
    "start_time": "2022-10-16T08:00:46.230Z"
   },
   {
    "duration": 1742,
    "start_time": "2022-10-16T08:03:57.827Z"
   },
   {
    "duration": 0,
    "start_time": "2022-10-16T08:03:59.570Z"
   },
   {
    "duration": 0,
    "start_time": "2022-10-16T08:03:59.572Z"
   },
   {
    "duration": 0,
    "start_time": "2022-10-16T08:03:59.573Z"
   },
   {
    "duration": 0,
    "start_time": "2022-10-16T08:03:59.574Z"
   },
   {
    "duration": 0,
    "start_time": "2022-10-16T08:03:59.575Z"
   },
   {
    "duration": 0,
    "start_time": "2022-10-16T08:03:59.576Z"
   },
   {
    "duration": 4,
    "start_time": "2022-10-16T08:20:43.667Z"
   },
   {
    "duration": 18,
    "start_time": "2022-10-16T08:20:47.015Z"
   },
   {
    "duration": 92,
    "start_time": "2022-10-16T08:24:04.331Z"
   },
   {
    "duration": 11,
    "start_time": "2022-10-16T08:24:23.855Z"
   },
   {
    "duration": 275,
    "start_time": "2022-10-16T08:24:46.430Z"
   },
   {
    "duration": 351,
    "start_time": "2022-10-16T08:25:17.833Z"
   },
   {
    "duration": 272,
    "start_time": "2022-10-16T08:25:51.479Z"
   },
   {
    "duration": 5,
    "start_time": "2022-10-16T08:26:19.075Z"
   },
   {
    "duration": 4,
    "start_time": "2022-10-16T08:26:19.635Z"
   },
   {
    "duration": 5,
    "start_time": "2022-10-16T08:26:20.087Z"
   },
   {
    "duration": 5,
    "start_time": "2022-10-16T08:26:20.850Z"
   },
   {
    "duration": 13,
    "start_time": "2022-10-16T08:26:34.506Z"
   },
   {
    "duration": 12,
    "start_time": "2022-10-16T08:26:35.651Z"
   },
   {
    "duration": 280,
    "start_time": "2022-10-16T08:26:47.939Z"
   },
   {
    "duration": 3,
    "start_time": "2022-10-16T08:27:47.679Z"
   },
   {
    "duration": 87,
    "start_time": "2022-10-16T08:27:49.007Z"
   },
   {
    "duration": 19,
    "start_time": "2022-10-16T08:27:50.387Z"
   },
   {
    "duration": 6,
    "start_time": "2022-10-16T08:27:51.275Z"
   },
   {
    "duration": 45,
    "start_time": "2022-10-16T08:27:57.971Z"
   },
   {
    "duration": 3,
    "start_time": "2022-10-16T08:28:00.227Z"
   },
   {
    "duration": 3,
    "start_time": "2022-10-16T08:28:08.095Z"
   },
   {
    "duration": 7,
    "start_time": "2022-10-16T08:28:08.743Z"
   },
   {
    "duration": 6,
    "start_time": "2022-10-16T08:28:11.319Z"
   },
   {
    "duration": 4,
    "start_time": "2022-10-16T08:28:11.747Z"
   },
   {
    "duration": 186170,
    "start_time": "2022-10-16T08:28:12.439Z"
   },
   {
    "duration": 14,
    "start_time": "2022-10-16T08:31:18.610Z"
   },
   {
    "duration": 7,
    "start_time": "2022-10-16T08:31:33.398Z"
   },
   {
    "duration": 11,
    "start_time": "2022-10-16T08:31:34.987Z"
   },
   {
    "duration": 18,
    "start_time": "2022-10-16T08:31:36.055Z"
   },
   {
    "duration": 252042,
    "start_time": "2022-10-16T08:31:37.483Z"
   },
   {
    "duration": 119416,
    "start_time": "2022-10-16T08:35:49.527Z"
   },
   {
    "duration": 187277,
    "start_time": "2022-10-16T08:37:48.945Z"
   },
   {
    "duration": 0,
    "start_time": "2022-10-16T08:40:56.223Z"
   },
   {
    "duration": 187971,
    "start_time": "2022-10-16T08:43:52.083Z"
   },
   {
    "duration": 17,
    "start_time": "2022-10-16T08:47:00.056Z"
   },
   {
    "duration": 4,
    "start_time": "2022-10-16T08:47:36.927Z"
   },
   {
    "duration": 643,
    "start_time": "2022-10-16T08:47:38.924Z"
   },
   {
    "duration": 5,
    "start_time": "2022-10-16T08:48:34.675Z"
   },
   {
    "duration": 619,
    "start_time": "2022-10-16T08:48:48.974Z"
   },
   {
    "duration": 5,
    "start_time": "2022-10-16T08:48:55.678Z"
   },
   {
    "duration": 609,
    "start_time": "2022-10-16T08:48:56.147Z"
   },
   {
    "duration": 7,
    "start_time": "2022-10-16T08:48:58.952Z"
   },
   {
    "duration": 6,
    "start_time": "2022-10-16T08:49:01.711Z"
   },
   {
    "duration": 13,
    "start_time": "2022-10-16T08:49:38.034Z"
   },
   {
    "duration": 5,
    "start_time": "2022-10-16T08:49:51.883Z"
   },
   {
    "duration": 710,
    "start_time": "2022-10-16T08:51:04.775Z"
   },
   {
    "duration": 701,
    "start_time": "2022-10-16T08:51:13.635Z"
   },
   {
    "duration": 784,
    "start_time": "2022-10-16T08:51:44.627Z"
   },
   {
    "duration": 781,
    "start_time": "2022-10-16T08:55:05.846Z"
   },
   {
    "duration": 6,
    "start_time": "2022-10-16T08:55:30.883Z"
   }
  ],
  "kernelspec": {
   "display_name": "Python 3 (ipykernel)",
   "language": "python",
   "name": "python3"
  },
  "language_info": {
   "codemirror_mode": {
    "name": "ipython",
    "version": 3
   },
   "file_extension": ".py",
   "mimetype": "text/x-python",
   "name": "python",
   "nbconvert_exporter": "python",
   "pygments_lexer": "ipython3",
   "version": "3.9.12"
  },
  "toc": {
   "base_numbering": 1,
   "nav_menu": {},
   "number_sections": true,
   "sideBar": true,
   "skip_h1_title": true,
   "title_cell": "Содержание",
   "title_sidebar": "Contents",
   "toc_cell": true,
   "toc_position": {
    "height": "calc(100% - 180px)",
    "left": "10px",
    "top": "150px",
    "width": "165px"
   },
   "toc_section_display": true,
   "toc_window_display": false
  }
 },
 "nbformat": 4,
 "nbformat_minor": 2
}
